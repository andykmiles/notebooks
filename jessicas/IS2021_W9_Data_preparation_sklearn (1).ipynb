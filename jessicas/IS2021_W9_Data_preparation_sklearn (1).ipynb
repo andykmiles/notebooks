{
 "cells": [
  {
   "cell_type": "markdown",
   "metadata": {
    "id": "reduced-trial"
   },
   "source": [
    "# Data preparation with sklearn"
   ]
  },
  {
   "cell_type": "markdown",
   "metadata": {
    "id": "authentic-highway"
   },
   "source": [
    "## Exercise 1\n",
    "\n",
    "Let's assume we have a small database of flu patients. We want to make a model to predict the need of hospitalization given the characteristics of the patients. However, before we need to pre-process a little bit the data.\n",
    "\n",
    "We have the following attributes:\n",
    "\n",
    "* Age: stored in years\n",
    "* Gender: Male / Female \n",
    "* Health status: Excelent / good / poor \n",
    "* Disease symptoms: in a scale from 0 to 10 where 0 is asymptomatic \n",
    "* Hospitalization need: 0 don't need hospitalization; 1 if they need it\n",
    "    \n",
    "The data is stored in lists. We provide here an example with 5 patients:"
   ]
  },
  {
   "cell_type": "code",
   "execution_count": 14,
   "metadata": {
    "id": "legendary-venture"
   },
   "outputs": [],
   "source": [
    "age = [70, 60, 35, 38, 86]  # None is used to denote a missing value in Python\n",
    "gender = [\"Male\", \"Female\", \"Male\", \"Male\", \"Female\"]  \n",
    "health_status = [\"Excelent\", \"Poor\", \"Poor\", \"Excelent\", \"Good\"]  \n",
    "disease_symptoms = [0, 7, 5, 8, 9]  \n",
    "hospitalization = [0, 1, 1, 0, 0] "
   ]
  },
  {
   "cell_type": "markdown",
   "metadata": {
    "id": "peaceful-daisy"
   },
   "source": [
    "#### Exercise 1.1\n",
    "\n",
    "Create a dataframe called ```df``` that contains the provided data."
   ]
  },
  {
   "cell_type": "code",
   "execution_count": 15,
   "metadata": {
    "colab": {
     "base_uri": "https://localhost:8080/",
     "height": 195
    },
    "id": "sonic-kidney",
    "outputId": "183c472d-1006-4ec1-b03e-080e8990d17f"
   },
   "outputs": [
    {
     "data": {
      "text/html": [
       "<div>\n",
       "<style scoped>\n",
       "    .dataframe tbody tr th:only-of-type {\n",
       "        vertical-align: middle;\n",
       "    }\n",
       "\n",
       "    .dataframe tbody tr th {\n",
       "        vertical-align: top;\n",
       "    }\n",
       "\n",
       "    .dataframe thead th {\n",
       "        text-align: right;\n",
       "    }\n",
       "</style>\n",
       "<table border=\"1\" class=\"dataframe\">\n",
       "  <thead>\n",
       "    <tr style=\"text-align: right;\">\n",
       "      <th></th>\n",
       "      <th>age</th>\n",
       "      <th>gender</th>\n",
       "      <th>health_status</th>\n",
       "      <th>disease_symptoms</th>\n",
       "      <th>hospitalization</th>\n",
       "    </tr>\n",
       "  </thead>\n",
       "  <tbody>\n",
       "    <tr>\n",
       "      <th>0</th>\n",
       "      <td>70</td>\n",
       "      <td>Male</td>\n",
       "      <td>Excelent</td>\n",
       "      <td>0</td>\n",
       "      <td>0</td>\n",
       "    </tr>\n",
       "    <tr>\n",
       "      <th>1</th>\n",
       "      <td>60</td>\n",
       "      <td>Female</td>\n",
       "      <td>Poor</td>\n",
       "      <td>7</td>\n",
       "      <td>1</td>\n",
       "    </tr>\n",
       "    <tr>\n",
       "      <th>2</th>\n",
       "      <td>35</td>\n",
       "      <td>Male</td>\n",
       "      <td>Poor</td>\n",
       "      <td>5</td>\n",
       "      <td>1</td>\n",
       "    </tr>\n",
       "    <tr>\n",
       "      <th>3</th>\n",
       "      <td>38</td>\n",
       "      <td>Male</td>\n",
       "      <td>Excelent</td>\n",
       "      <td>8</td>\n",
       "      <td>0</td>\n",
       "    </tr>\n",
       "    <tr>\n",
       "      <th>4</th>\n",
       "      <td>86</td>\n",
       "      <td>Female</td>\n",
       "      <td>Good</td>\n",
       "      <td>9</td>\n",
       "      <td>0</td>\n",
       "    </tr>\n",
       "  </tbody>\n",
       "</table>\n",
       "</div>"
      ],
      "text/plain": [
       "   age  gender health_status  disease_symptoms  hospitalization\n",
       "0   70    Male      Excelent                 0                0\n",
       "1   60  Female          Poor                 7                1\n",
       "2   35    Male          Poor                 5                1\n",
       "3   38    Male      Excelent                 8                0\n",
       "4   86  Female          Good                 9                0"
      ]
     },
     "execution_count": 15,
     "metadata": {},
     "output_type": "execute_result"
    }
   ],
   "source": [
    "import pandas as pd\n",
    "\n",
    "df = pd.DataFrame(data={'age':age,\n",
    "                        'gender':gender,\n",
    "                        'health_status':health_status,\n",
    "                        'disease_symptoms':disease_symptoms,\n",
    "                        'hospitalization':hospitalization\n",
    "                        })\n",
    "\n",
    "df"
   ]
  },
  {
   "cell_type": "markdown",
   "metadata": {
    "id": "suburban-picnic"
   },
   "source": [
    "#### Exercise 1.2\n",
    "\n",
    "Extract the features matrix and target array from the original DataFrame and store them in two new variables ```X``` and ```y```. Use column ```hospitalization``` as depedent variable."
   ]
  },
  {
   "cell_type": "code",
   "execution_count": 16,
   "metadata": {
    "id": "baking-drunk"
   },
   "outputs": [],
   "source": [
    "X = df.drop(columns='hospitalization')\n",
    "y = df['hospitalization']"
   ]
  },
  {
   "cell_type": "markdown",
   "metadata": {
    "id": "handled-bulgarian"
   },
   "source": [
    "#### Exercise 1.3\n",
    "\n",
    "Use the sklearn library to create a one-hot encoder for the ```gender``` attribute that results in the adding of two new columns, ```female``` and ```male```, to your dataframe. Remember to remove the original attribute."
   ]
  },
  {
   "cell_type": "code",
   "execution_count": 17,
   "metadata": {
    "colab": {
     "base_uri": "https://localhost:8080/"
    },
    "id": "certified-chinese",
    "outputId": "6385835b-9d24-4301-d4b3-5f07ed576a40"
   },
   "outputs": [
    {
     "data": {
      "text/plain": [
       "array([[0., 1.],\n",
       "       [1., 0.],\n",
       "       [0., 1.],\n",
       "       [0., 1.],\n",
       "       [1., 0.]])"
      ]
     },
     "execution_count": 17,
     "metadata": {},
     "output_type": "execute_result"
    }
   ],
   "source": [
    "from sklearn.preprocessing import OneHotEncoder\n",
    "\n",
    "encoder = OneHotEncoder(sparse=False)\n",
    "val = encoder.fit_transform(X[['gender']])\n",
    "\n",
    "val"
   ]
  },
  {
   "cell_type": "code",
   "execution_count": 18,
   "metadata": {
    "colab": {
     "base_uri": "https://localhost:8080/",
     "height": 195
    },
    "id": "_cxrdXreVP7S",
    "outputId": "0fe98023-1b36-40dc-d71c-6e363a6f7543"
   },
   "outputs": [
    {
     "data": {
      "text/html": [
       "<div>\n",
       "<style scoped>\n",
       "    .dataframe tbody tr th:only-of-type {\n",
       "        vertical-align: middle;\n",
       "    }\n",
       "\n",
       "    .dataframe tbody tr th {\n",
       "        vertical-align: top;\n",
       "    }\n",
       "\n",
       "    .dataframe thead th {\n",
       "        text-align: right;\n",
       "    }\n",
       "</style>\n",
       "<table border=\"1\" class=\"dataframe\">\n",
       "  <thead>\n",
       "    <tr style=\"text-align: right;\">\n",
       "      <th></th>\n",
       "      <th>age</th>\n",
       "      <th>health_status</th>\n",
       "      <th>disease_symptoms</th>\n",
       "      <th>female</th>\n",
       "      <th>male</th>\n",
       "    </tr>\n",
       "  </thead>\n",
       "  <tbody>\n",
       "    <tr>\n",
       "      <th>0</th>\n",
       "      <td>70</td>\n",
       "      <td>Excelent</td>\n",
       "      <td>0</td>\n",
       "      <td>0.0</td>\n",
       "      <td>1.0</td>\n",
       "    </tr>\n",
       "    <tr>\n",
       "      <th>1</th>\n",
       "      <td>60</td>\n",
       "      <td>Poor</td>\n",
       "      <td>7</td>\n",
       "      <td>1.0</td>\n",
       "      <td>0.0</td>\n",
       "    </tr>\n",
       "    <tr>\n",
       "      <th>2</th>\n",
       "      <td>35</td>\n",
       "      <td>Poor</td>\n",
       "      <td>5</td>\n",
       "      <td>0.0</td>\n",
       "      <td>1.0</td>\n",
       "    </tr>\n",
       "    <tr>\n",
       "      <th>3</th>\n",
       "      <td>38</td>\n",
       "      <td>Excelent</td>\n",
       "      <td>8</td>\n",
       "      <td>0.0</td>\n",
       "      <td>1.0</td>\n",
       "    </tr>\n",
       "    <tr>\n",
       "      <th>4</th>\n",
       "      <td>86</td>\n",
       "      <td>Good</td>\n",
       "      <td>9</td>\n",
       "      <td>1.0</td>\n",
       "      <td>0.0</td>\n",
       "    </tr>\n",
       "  </tbody>\n",
       "</table>\n",
       "</div>"
      ],
      "text/plain": [
       "   age health_status  disease_symptoms  female  male\n",
       "0   70      Excelent                 0     0.0   1.0\n",
       "1   60          Poor                 7     1.0   0.0\n",
       "2   35          Poor                 5     0.0   1.0\n",
       "3   38      Excelent                 8     0.0   1.0\n",
       "4   86          Good                 9     1.0   0.0"
      ]
     },
     "execution_count": 18,
     "metadata": {},
     "output_type": "execute_result"
    }
   ],
   "source": [
    "X['female'] = val[:,0]\n",
    "X['male'] = val[:,1]\n",
    "\n",
    "X.drop(columns='gender',inplace=True)\n",
    "#X = X.drop(columns='gender',inplace=False)\n",
    "#X = X.drop(columns='gender')\n",
    "\n",
    "X"
   ]
  },
  {
   "cell_type": "markdown",
   "metadata": {
    "id": "toxic-nitrogen"
   },
   "source": [
    "#### Exercise 1.4\n",
    "\n",
    "Use the sklearn library to create an integer encoder for the ```health_status``` attribute. Store the new variable in a column called ```health_status_ENC``` and remove the original column."
   ]
  },
  {
   "cell_type": "code",
   "execution_count": 13,
   "metadata": {
    "colab": {
     "base_uri": "https://localhost:8080/",
     "height": 195
    },
    "id": "floating-daisy",
    "outputId": "faaed35a-d47c-4601-c823-12433018b85a"
   },
   "outputs": [
    {
     "ename": "KeyError",
     "evalue": "\"None of [Index(['health_status'], dtype='object')] are in the [columns]\"",
     "output_type": "error",
     "traceback": [
      "\u001b[0;31m---------------------------------------------------------------------------\u001b[0m",
      "\u001b[0;31mKeyError\u001b[0m                                  Traceback (most recent call last)",
      "\u001b[0;32m<ipython-input-13-336d0dc6232d>\u001b[0m in \u001b[0;36m<module>\u001b[0;34m\u001b[0m\n\u001b[1;32m      2\u001b[0m \u001b[0;34m\u001b[0m\u001b[0m\n\u001b[1;32m      3\u001b[0m \u001b[0mencoder\u001b[0m \u001b[0;34m=\u001b[0m \u001b[0mOrdinalEncoder\u001b[0m\u001b[0;34m(\u001b[0m\u001b[0mcategories\u001b[0m\u001b[0;34m=\u001b[0m\u001b[0;34m[\u001b[0m\u001b[0;34m[\u001b[0m\u001b[0;34m'Poor'\u001b[0m\u001b[0;34m,\u001b[0m\u001b[0;34m'Good'\u001b[0m\u001b[0;34m,\u001b[0m\u001b[0;34m'Excelent'\u001b[0m\u001b[0;34m]\u001b[0m\u001b[0;34m]\u001b[0m\u001b[0;34m)\u001b[0m\u001b[0;34m\u001b[0m\u001b[0;34m\u001b[0m\u001b[0m\n\u001b[0;32m----> 4\u001b[0;31m \u001b[0mX\u001b[0m\u001b[0;34m[\u001b[0m\u001b[0;34m'health_status_ENC'\u001b[0m\u001b[0;34m]\u001b[0m \u001b[0;34m=\u001b[0m \u001b[0mencoder\u001b[0m\u001b[0;34m.\u001b[0m\u001b[0mfit_transform\u001b[0m\u001b[0;34m(\u001b[0m\u001b[0mX\u001b[0m\u001b[0;34m[\u001b[0m\u001b[0;34m[\u001b[0m\u001b[0;34m'health_status'\u001b[0m\u001b[0;34m]\u001b[0m\u001b[0;34m]\u001b[0m\u001b[0;34m)\u001b[0m\u001b[0;34m\u001b[0m\u001b[0;34m\u001b[0m\u001b[0m\n\u001b[0m\u001b[1;32m      5\u001b[0m \u001b[0;34m\u001b[0m\u001b[0m\n\u001b[1;32m      6\u001b[0m \u001b[0mX\u001b[0m\u001b[0;34m[\u001b[0m\u001b[0;34m'health_status_ENC'\u001b[0m\u001b[0;34m]\u001b[0m\u001b[0;34m\u001b[0m\u001b[0;34m\u001b[0m\u001b[0m\n",
      "\u001b[0;32m/opt/conda/lib/python3.8/site-packages/pandas/core/frame.py\u001b[0m in \u001b[0;36m__getitem__\u001b[0;34m(self, key)\u001b[0m\n\u001b[1;32m   2906\u001b[0m             \u001b[0;32mif\u001b[0m \u001b[0mis_iterator\u001b[0m\u001b[0;34m(\u001b[0m\u001b[0mkey\u001b[0m\u001b[0;34m)\u001b[0m\u001b[0;34m:\u001b[0m\u001b[0;34m\u001b[0m\u001b[0;34m\u001b[0m\u001b[0m\n\u001b[1;32m   2907\u001b[0m                 \u001b[0mkey\u001b[0m \u001b[0;34m=\u001b[0m \u001b[0mlist\u001b[0m\u001b[0;34m(\u001b[0m\u001b[0mkey\u001b[0m\u001b[0;34m)\u001b[0m\u001b[0;34m\u001b[0m\u001b[0;34m\u001b[0m\u001b[0m\n\u001b[0;32m-> 2908\u001b[0;31m             \u001b[0mindexer\u001b[0m \u001b[0;34m=\u001b[0m \u001b[0mself\u001b[0m\u001b[0;34m.\u001b[0m\u001b[0mloc\u001b[0m\u001b[0;34m.\u001b[0m\u001b[0m_get_listlike_indexer\u001b[0m\u001b[0;34m(\u001b[0m\u001b[0mkey\u001b[0m\u001b[0;34m,\u001b[0m \u001b[0maxis\u001b[0m\u001b[0;34m=\u001b[0m\u001b[0;36m1\u001b[0m\u001b[0;34m,\u001b[0m \u001b[0mraise_missing\u001b[0m\u001b[0;34m=\u001b[0m\u001b[0;32mTrue\u001b[0m\u001b[0;34m)\u001b[0m\u001b[0;34m[\u001b[0m\u001b[0;36m1\u001b[0m\u001b[0;34m]\u001b[0m\u001b[0;34m\u001b[0m\u001b[0;34m\u001b[0m\u001b[0m\n\u001b[0m\u001b[1;32m   2909\u001b[0m \u001b[0;34m\u001b[0m\u001b[0m\n\u001b[1;32m   2910\u001b[0m         \u001b[0;31m# take() does not accept boolean indexers\u001b[0m\u001b[0;34m\u001b[0m\u001b[0;34m\u001b[0m\u001b[0;34m\u001b[0m\u001b[0m\n",
      "\u001b[0;32m/opt/conda/lib/python3.8/site-packages/pandas/core/indexing.py\u001b[0m in \u001b[0;36m_get_listlike_indexer\u001b[0;34m(self, key, axis, raise_missing)\u001b[0m\n\u001b[1;32m   1252\u001b[0m             \u001b[0mkeyarr\u001b[0m\u001b[0;34m,\u001b[0m \u001b[0mindexer\u001b[0m\u001b[0;34m,\u001b[0m \u001b[0mnew_indexer\u001b[0m \u001b[0;34m=\u001b[0m \u001b[0max\u001b[0m\u001b[0;34m.\u001b[0m\u001b[0m_reindex_non_unique\u001b[0m\u001b[0;34m(\u001b[0m\u001b[0mkeyarr\u001b[0m\u001b[0;34m)\u001b[0m\u001b[0;34m\u001b[0m\u001b[0;34m\u001b[0m\u001b[0m\n\u001b[1;32m   1253\u001b[0m \u001b[0;34m\u001b[0m\u001b[0m\n\u001b[0;32m-> 1254\u001b[0;31m         \u001b[0mself\u001b[0m\u001b[0;34m.\u001b[0m\u001b[0m_validate_read_indexer\u001b[0m\u001b[0;34m(\u001b[0m\u001b[0mkeyarr\u001b[0m\u001b[0;34m,\u001b[0m \u001b[0mindexer\u001b[0m\u001b[0;34m,\u001b[0m \u001b[0maxis\u001b[0m\u001b[0;34m,\u001b[0m \u001b[0mraise_missing\u001b[0m\u001b[0;34m=\u001b[0m\u001b[0mraise_missing\u001b[0m\u001b[0;34m)\u001b[0m\u001b[0;34m\u001b[0m\u001b[0;34m\u001b[0m\u001b[0m\n\u001b[0m\u001b[1;32m   1255\u001b[0m         \u001b[0;32mreturn\u001b[0m \u001b[0mkeyarr\u001b[0m\u001b[0;34m,\u001b[0m \u001b[0mindexer\u001b[0m\u001b[0;34m\u001b[0m\u001b[0;34m\u001b[0m\u001b[0m\n\u001b[1;32m   1256\u001b[0m \u001b[0;34m\u001b[0m\u001b[0m\n",
      "\u001b[0;32m/opt/conda/lib/python3.8/site-packages/pandas/core/indexing.py\u001b[0m in \u001b[0;36m_validate_read_indexer\u001b[0;34m(self, key, indexer, axis, raise_missing)\u001b[0m\n\u001b[1;32m   1296\u001b[0m             \u001b[0;32mif\u001b[0m \u001b[0mmissing\u001b[0m \u001b[0;34m==\u001b[0m \u001b[0mlen\u001b[0m\u001b[0;34m(\u001b[0m\u001b[0mindexer\u001b[0m\u001b[0;34m)\u001b[0m\u001b[0;34m:\u001b[0m\u001b[0;34m\u001b[0m\u001b[0;34m\u001b[0m\u001b[0m\n\u001b[1;32m   1297\u001b[0m                 \u001b[0maxis_name\u001b[0m \u001b[0;34m=\u001b[0m \u001b[0mself\u001b[0m\u001b[0;34m.\u001b[0m\u001b[0mobj\u001b[0m\u001b[0;34m.\u001b[0m\u001b[0m_get_axis_name\u001b[0m\u001b[0;34m(\u001b[0m\u001b[0maxis\u001b[0m\u001b[0;34m)\u001b[0m\u001b[0;34m\u001b[0m\u001b[0;34m\u001b[0m\u001b[0m\n\u001b[0;32m-> 1298\u001b[0;31m                 \u001b[0;32mraise\u001b[0m \u001b[0mKeyError\u001b[0m\u001b[0;34m(\u001b[0m\u001b[0;34mf\"None of [{key}] are in the [{axis_name}]\"\u001b[0m\u001b[0;34m)\u001b[0m\u001b[0;34m\u001b[0m\u001b[0;34m\u001b[0m\u001b[0m\n\u001b[0m\u001b[1;32m   1299\u001b[0m \u001b[0;34m\u001b[0m\u001b[0m\n\u001b[1;32m   1300\u001b[0m             \u001b[0;31m# We (temporarily) allow for some missing keys with .loc, except in\u001b[0m\u001b[0;34m\u001b[0m\u001b[0;34m\u001b[0m\u001b[0;34m\u001b[0m\u001b[0m\n",
      "\u001b[0;31mKeyError\u001b[0m: \"None of [Index(['health_status'], dtype='object')] are in the [columns]\""
     ]
    }
   ],
   "source": [
    "from sklearn.preprocessing import OrdinalEncoder\n",
    "\n",
    "encoder = OrdinalEncoder(categories=[['Poor','Good','Excelent']])\n",
    "X['health_status_ENC'] = encoder.fit_transform(X[['health_status']])\n",
    "\n",
    "X['health_status_ENC']\n",
    "\n",
    "X.drop(columns='health_status', inplace=True)\n",
    "\n",
    "X"
   ]
  },
  {
   "cell_type": "markdown",
   "metadata": {
    "id": "incomplete-howard"
   },
   "source": [
    "#### Exercise 1.5\n",
    "\n",
    "Write the code to split the datasets ```X``` and ```y``` into separate training set and a test set using the sklearn library. Use the common names ```X_train, X_test, y_train, y_test``` to refer to the different sets."
   ]
  },
  {
   "cell_type": "code",
   "execution_count": 7,
   "metadata": {
    "colab": {
     "base_uri": "https://localhost:8080/"
    },
    "id": "compliant-story",
    "outputId": "eb91d6e9-c22d-456c-94aa-b74b582c0aa5"
   },
   "outputs": [
    {
     "data": {
      "text/plain": [
       "(   age  disease_symptoms  female  male  health_status_ENC\n",
       " 2   35                 5     0.0   1.0                0.0\n",
       " 4   86                 9     1.0   0.0                1.0\n",
       " 0   70                 0     0.0   1.0                2.0,\n",
       "    age  disease_symptoms  female  male  health_status_ENC\n",
       " 1   60                 7     1.0   0.0                0.0\n",
       " 3   38                 8     0.0   1.0                2.0,\n",
       " 2    1\n",
       " 4    0\n",
       " 0    0\n",
       " Name: hospitalization, dtype: int64,\n",
       " 1    1\n",
       " 3    0\n",
       " Name: hospitalization, dtype: int64)"
      ]
     },
     "execution_count": 7,
     "metadata": {},
     "output_type": "execute_result"
    }
   ],
   "source": [
    "from sklearn.model_selection import train_test_split\n",
    "X_train, X_test, y_train, y_test = train_test_split(X,y)\n",
    "\n",
    "X_train, X_test, y_train, y_test"
   ]
  },
  {
   "cell_type": "markdown",
   "metadata": {
    "id": "moral-campbell"
   },
   "source": [
    "Repeat the same exercise above, but this time set the relative sized of the training and test sets to 0.6 and 0.4, respectively."
   ]
  },
  {
   "cell_type": "code",
   "execution_count": 8,
   "metadata": {
    "colab": {
     "base_uri": "https://localhost:8080/"
    },
    "id": "accompanied-convenience",
    "outputId": "f5cc8d5d-5057-443a-9f6c-2b2e9e3a20ba"
   },
   "outputs": [
    {
     "data": {
      "text/plain": [
       "(   age  disease_symptoms  female  male  health_status_ENC\n",
       " 4   86                 9     1.0   0.0                1.0\n",
       " 3   38                 8     0.0   1.0                2.0\n",
       " 2   35                 5     0.0   1.0                0.0,\n",
       "    age  disease_symptoms  female  male  health_status_ENC\n",
       " 1   60                 7     1.0   0.0                0.0\n",
       " 0   70                 0     0.0   1.0                2.0,\n",
       " 4    0\n",
       " 3    0\n",
       " 2    1\n",
       " Name: hospitalization, dtype: int64,\n",
       " 1    1\n",
       " 0    0\n",
       " Name: hospitalization, dtype: int64)"
      ]
     },
     "execution_count": 8,
     "metadata": {},
     "output_type": "execute_result"
    }
   ],
   "source": [
    "from sklearn.model_selection import train_test_split\n",
    "X_train, X_test, y_train, y_test = train_test_split(X,y, test_size= 0.4)\n",
    "X_train, X_test, y_train, y_test"
   ]
  },
  {
   "cell_type": "markdown",
   "metadata": {
    "id": "physical-interference"
   },
   "source": [
    "#### Exercise 1.6\n",
    "\n",
    "Write the code to correctly normalize datasets ```X_train``` and ```X_test``` using the MinMaxScaler from the sklearn library. When you are done, write the code to check that both sets are indeed properly normalized."
   ]
  },
  {
   "cell_type": "code",
   "execution_count": 9,
   "metadata": {
    "colab": {
     "base_uri": "https://localhost:8080/"
    },
    "id": "little-account",
    "outputId": "dbf5a8d0-0307-42cf-d853-ed4011c29307"
   },
   "outputs": [
    {
     "data": {
      "text/plain": [
       "array([[1.        , 1.        , 1.        , 0.        , 0.5       ],\n",
       "       [0.05882353, 0.75      , 0.        , 1.        , 1.        ],\n",
       "       [0.        , 0.        , 0.        , 1.        , 0.        ]])"
      ]
     },
     "execution_count": 9,
     "metadata": {},
     "output_type": "execute_result"
    }
   ],
   "source": [
    "from sklearn.preprocessing import MinMaxScaler\n",
    "\n",
    "scaler = MinMaxScaler()\n",
    "X_train=scaler.fit_transform(X_train)\n",
    "X_test=scaler.fit_transform(X_test)\n",
    "\n",
    "X_train"
   ]
  },
  {
   "cell_type": "markdown",
   "metadata": {
    "id": "convinced-brass"
   },
   "source": [
    "## Exercise 2\n",
    "\n",
    "Follow this [link](https://urledu-my.sharepoint.com/:u:/g/personal/jordi_nin_esade_edu/EecC8IKo5dtBhmZTGKObe94BwcefmbK8__aJVkoOjcO7JQ?e=vFwvtd) to download a dataset containing information about different family structures. The data are presented in a csv format. You might need to unzip it. \n",
    "\n",
    "The dataset contains the following attributes:\n",
    "\n",
    "* gender\n",
    "* num_children\n",
    "* income\n",
    "* social_class"
   ]
  },
  {
   "cell_type": "markdown",
   "metadata": {
    "id": "fixed-canyon"
   },
   "source": [
    "#### Exercise 2.1\n",
    "\n",
    "Create a dataframe called ```df``` that contains the provided data."
   ]
  },
  {
   "cell_type": "code",
   "execution_count": 12,
   "metadata": {
    "colab": {
     "base_uri": "https://localhost:8080/",
     "height": 195
    },
    "id": "processed-prescription",
    "outputId": "5f3595ab-6d9b-457f-c145-891fb4987817"
   },
   "outputs": [
    {
     "data": {
      "text/html": [
       "<div>\n",
       "<style scoped>\n",
       "    .dataframe tbody tr th:only-of-type {\n",
       "        vertical-align: middle;\n",
       "    }\n",
       "\n",
       "    .dataframe tbody tr th {\n",
       "        vertical-align: top;\n",
       "    }\n",
       "\n",
       "    .dataframe thead th {\n",
       "        text-align: right;\n",
       "    }\n",
       "</style>\n",
       "<table border=\"1\" class=\"dataframe\">\n",
       "  <thead>\n",
       "    <tr style=\"text-align: right;\">\n",
       "      <th></th>\n",
       "      <th>gender</th>\n",
       "      <th>num_children</th>\n",
       "      <th>income</th>\n",
       "      <th>social_class</th>\n",
       "    </tr>\n",
       "  </thead>\n",
       "  <tbody>\n",
       "    <tr>\n",
       "      <th>0</th>\n",
       "      <td>Female</td>\n",
       "      <td>4</td>\n",
       "      <td>2500.0</td>\n",
       "      <td>Middle-Lower</td>\n",
       "    </tr>\n",
       "    <tr>\n",
       "      <th>1</th>\n",
       "      <td>Hombre</td>\n",
       "      <td>1</td>\n",
       "      <td>3002.3</td>\n",
       "      <td>Middle-Middle</td>\n",
       "    </tr>\n",
       "    <tr>\n",
       "      <th>2</th>\n",
       "      <td>Hombre</td>\n",
       "      <td>1</td>\n",
       "      <td>4274.1</td>\n",
       "      <td>Middle-Upper</td>\n",
       "    </tr>\n",
       "    <tr>\n",
       "      <th>3</th>\n",
       "      <td>Hombre</td>\n",
       "      <td>0</td>\n",
       "      <td>1200.0</td>\n",
       "      <td>Middle-Middle</td>\n",
       "    </tr>\n",
       "    <tr>\n",
       "      <th>4</th>\n",
       "      <td>Hombre</td>\n",
       "      <td>1</td>\n",
       "      <td>2774.6</td>\n",
       "      <td>Middle-Lower</td>\n",
       "    </tr>\n",
       "  </tbody>\n",
       "</table>\n",
       "</div>"
      ],
      "text/plain": [
       "   gender  num_children  income   social_class\n",
       "0  Female             4  2500.0   Middle-Lower\n",
       "1  Hombre             1  3002.3  Middle-Middle\n",
       "2  Hombre             1  4274.1   Middle-Upper\n",
       "3  Hombre             0  1200.0  Middle-Middle\n",
       "4  Hombre             1  2774.6   Middle-Lower"
      ]
     },
     "execution_count": 12,
     "metadata": {},
     "output_type": "execute_result"
    }
   ],
   "source": [
    "import pandas as pd\n",
    "\n",
    "df = pd.read_csv('/data/client-files/jessica/prod/social_class.csv')\n",
    "\n",
    "df.head()"
   ]
  },
  {
   "cell_type": "markdown",
   "metadata": {
    "id": "finite-acting"
   },
   "source": [
    "#### Exercise 2.2\n",
    "\n",
    "Extract the features matrix and target array from the original DataFrame and store them in two new variables ```X``` and ```y```. Use column ```income``` as the depedent variable."
   ]
  },
  {
   "cell_type": "code",
   "execution_count": 35,
   "metadata": {
    "colab": {
     "base_uri": "https://localhost:8080/",
     "height": 402
    },
    "id": "compatible-princeton",
    "outputId": "3ad9691b-ba49-4925-d27e-54f1b03bbded"
   },
   "outputs": [
    {
     "data": {
      "text/html": [
       "<div>\n",
       "<style scoped>\n",
       "    .dataframe tbody tr th:only-of-type {\n",
       "        vertical-align: middle;\n",
       "    }\n",
       "\n",
       "    .dataframe tbody tr th {\n",
       "        vertical-align: top;\n",
       "    }\n",
       "\n",
       "    .dataframe thead th {\n",
       "        text-align: right;\n",
       "    }\n",
       "</style>\n",
       "<table border=\"1\" class=\"dataframe\">\n",
       "  <thead>\n",
       "    <tr style=\"text-align: right;\">\n",
       "      <th></th>\n",
       "      <th>gender</th>\n",
       "      <th>num_children</th>\n",
       "      <th>social_class</th>\n",
       "    </tr>\n",
       "  </thead>\n",
       "  <tbody>\n",
       "    <tr>\n",
       "      <th>0</th>\n",
       "      <td>Female</td>\n",
       "      <td>4</td>\n",
       "      <td>Middle-Lower</td>\n",
       "    </tr>\n",
       "    <tr>\n",
       "      <th>1</th>\n",
       "      <td>Hombre</td>\n",
       "      <td>1</td>\n",
       "      <td>Middle-Middle</td>\n",
       "    </tr>\n",
       "    <tr>\n",
       "      <th>2</th>\n",
       "      <td>Hombre</td>\n",
       "      <td>1</td>\n",
       "      <td>Middle-Upper</td>\n",
       "    </tr>\n",
       "    <tr>\n",
       "      <th>3</th>\n",
       "      <td>Hombre</td>\n",
       "      <td>0</td>\n",
       "      <td>Middle-Middle</td>\n",
       "    </tr>\n",
       "    <tr>\n",
       "      <th>4</th>\n",
       "      <td>Hombre</td>\n",
       "      <td>1</td>\n",
       "      <td>Middle-Lower</td>\n",
       "    </tr>\n",
       "    <tr>\n",
       "      <th>...</th>\n",
       "      <td>...</td>\n",
       "      <td>...</td>\n",
       "      <td>...</td>\n",
       "    </tr>\n",
       "    <tr>\n",
       "      <th>995</th>\n",
       "      <td>Hombre</td>\n",
       "      <td>1</td>\n",
       "      <td>Middle-Upper</td>\n",
       "    </tr>\n",
       "    <tr>\n",
       "      <th>996</th>\n",
       "      <td>Female</td>\n",
       "      <td>4</td>\n",
       "      <td>Middle-Upper</td>\n",
       "    </tr>\n",
       "    <tr>\n",
       "      <th>997</th>\n",
       "      <td>Hombre</td>\n",
       "      <td>0</td>\n",
       "      <td>Middle-Middle</td>\n",
       "    </tr>\n",
       "    <tr>\n",
       "      <th>998</th>\n",
       "      <td>Hombre</td>\n",
       "      <td>1</td>\n",
       "      <td>Middle-Middle</td>\n",
       "    </tr>\n",
       "    <tr>\n",
       "      <th>999</th>\n",
       "      <td>Hombre</td>\n",
       "      <td>0</td>\n",
       "      <td>Middle-Lower</td>\n",
       "    </tr>\n",
       "  </tbody>\n",
       "</table>\n",
       "<p>1000 rows × 3 columns</p>\n",
       "</div>"
      ],
      "text/plain": [
       "     gender  num_children   social_class\n",
       "0    Female             4   Middle-Lower\n",
       "1    Hombre             1  Middle-Middle\n",
       "2    Hombre             1   Middle-Upper\n",
       "3    Hombre             0  Middle-Middle\n",
       "4    Hombre             1   Middle-Lower\n",
       "..      ...           ...            ...\n",
       "995  Hombre             1   Middle-Upper\n",
       "996  Female             4   Middle-Upper\n",
       "997  Hombre             0  Middle-Middle\n",
       "998  Hombre             1  Middle-Middle\n",
       "999  Hombre             0   Middle-Lower\n",
       "\n",
       "[1000 rows x 3 columns]"
      ]
     },
     "execution_count": 35,
     "metadata": {
      "tags": []
     },
     "output_type": "execute_result"
    }
   ],
   "source": [
    "y = df['income']\n",
    "X = df.drop(columns='income')\n",
    "\n",
    "X"
   ]
  },
  {
   "cell_type": "markdown",
   "metadata": {
    "id": "existing-conviction"
   },
   "source": [
    "#### Exercise 2.3\n",
    "\n",
    "Use the sklearn library to create a one-hot encoder for the ```gender``` attribute. Store the resulting information in two new columns called ```male``` and ```female``` and remove the original attribute from the dataframe."
   ]
  },
  {
   "cell_type": "code",
   "execution_count": 37,
   "metadata": {
    "colab": {
     "base_uri": "https://localhost:8080/",
     "height": 402
    },
    "id": "rotary-prize",
    "outputId": "36ad68fa-6f61-4475-b1be-6582752b1910"
   },
   "outputs": [
    {
     "data": {
      "text/html": [
       "<div>\n",
       "<style scoped>\n",
       "    .dataframe tbody tr th:only-of-type {\n",
       "        vertical-align: middle;\n",
       "    }\n",
       "\n",
       "    .dataframe tbody tr th {\n",
       "        vertical-align: top;\n",
       "    }\n",
       "\n",
       "    .dataframe thead th {\n",
       "        text-align: right;\n",
       "    }\n",
       "</style>\n",
       "<table border=\"1\" class=\"dataframe\">\n",
       "  <thead>\n",
       "    <tr style=\"text-align: right;\">\n",
       "      <th></th>\n",
       "      <th>num_children</th>\n",
       "      <th>social_class</th>\n",
       "      <th>female</th>\n",
       "      <th>male</th>\n",
       "    </tr>\n",
       "  </thead>\n",
       "  <tbody>\n",
       "    <tr>\n",
       "      <th>0</th>\n",
       "      <td>4</td>\n",
       "      <td>Middle-Lower</td>\n",
       "      <td>1.0</td>\n",
       "      <td>0.0</td>\n",
       "    </tr>\n",
       "    <tr>\n",
       "      <th>1</th>\n",
       "      <td>1</td>\n",
       "      <td>Middle-Middle</td>\n",
       "      <td>0.0</td>\n",
       "      <td>1.0</td>\n",
       "    </tr>\n",
       "    <tr>\n",
       "      <th>2</th>\n",
       "      <td>1</td>\n",
       "      <td>Middle-Upper</td>\n",
       "      <td>0.0</td>\n",
       "      <td>1.0</td>\n",
       "    </tr>\n",
       "    <tr>\n",
       "      <th>3</th>\n",
       "      <td>0</td>\n",
       "      <td>Middle-Middle</td>\n",
       "      <td>0.0</td>\n",
       "      <td>1.0</td>\n",
       "    </tr>\n",
       "    <tr>\n",
       "      <th>4</th>\n",
       "      <td>1</td>\n",
       "      <td>Middle-Lower</td>\n",
       "      <td>0.0</td>\n",
       "      <td>1.0</td>\n",
       "    </tr>\n",
       "    <tr>\n",
       "      <th>...</th>\n",
       "      <td>...</td>\n",
       "      <td>...</td>\n",
       "      <td>...</td>\n",
       "      <td>...</td>\n",
       "    </tr>\n",
       "    <tr>\n",
       "      <th>995</th>\n",
       "      <td>1</td>\n",
       "      <td>Middle-Upper</td>\n",
       "      <td>0.0</td>\n",
       "      <td>1.0</td>\n",
       "    </tr>\n",
       "    <tr>\n",
       "      <th>996</th>\n",
       "      <td>4</td>\n",
       "      <td>Middle-Upper</td>\n",
       "      <td>1.0</td>\n",
       "      <td>0.0</td>\n",
       "    </tr>\n",
       "    <tr>\n",
       "      <th>997</th>\n",
       "      <td>0</td>\n",
       "      <td>Middle-Middle</td>\n",
       "      <td>0.0</td>\n",
       "      <td>1.0</td>\n",
       "    </tr>\n",
       "    <tr>\n",
       "      <th>998</th>\n",
       "      <td>1</td>\n",
       "      <td>Middle-Middle</td>\n",
       "      <td>0.0</td>\n",
       "      <td>1.0</td>\n",
       "    </tr>\n",
       "    <tr>\n",
       "      <th>999</th>\n",
       "      <td>0</td>\n",
       "      <td>Middle-Lower</td>\n",
       "      <td>0.0</td>\n",
       "      <td>1.0</td>\n",
       "    </tr>\n",
       "  </tbody>\n",
       "</table>\n",
       "<p>1000 rows × 4 columns</p>\n",
       "</div>"
      ],
      "text/plain": [
       "     num_children   social_class  female  male\n",
       "0               4   Middle-Lower     1.0   0.0\n",
       "1               1  Middle-Middle     0.0   1.0\n",
       "2               1   Middle-Upper     0.0   1.0\n",
       "3               0  Middle-Middle     0.0   1.0\n",
       "4               1   Middle-Lower     0.0   1.0\n",
       "..            ...            ...     ...   ...\n",
       "995             1   Middle-Upper     0.0   1.0\n",
       "996             4   Middle-Upper     1.0   0.0\n",
       "997             0  Middle-Middle     0.0   1.0\n",
       "998             1  Middle-Middle     0.0   1.0\n",
       "999             0   Middle-Lower     0.0   1.0\n",
       "\n",
       "[1000 rows x 4 columns]"
      ]
     },
     "execution_count": 37,
     "metadata": {
      "tags": []
     },
     "output_type": "execute_result"
    }
   ],
   "source": [
    "from sklearn.preprocessing import OneHotEncoder\n",
    "\n",
    "encoder = OneHotEncoder(sparse=False)\n",
    "val = encoder.fit_transform(X[['gender']])\n",
    "\n",
    "X['female'] = val[:,0]\n",
    "X['male'] = val[:,1]\n",
    "\n",
    "X.drop(columns='gender',inplace=True)\n",
    "#X = X.drop(columns='gender',inplace=False)\n",
    "#X = X.drop(columns='gender')\n",
    "\n",
    "X"
   ]
  },
  {
   "cell_type": "markdown",
   "metadata": {
    "id": "growing-split"
   },
   "source": [
    "# Exercise 2.4"
   ]
  },
  {
   "cell_type": "code",
   "execution_count": 39,
   "metadata": {
    "colab": {
     "base_uri": "https://localhost:8080/",
     "height": 402
    },
    "id": "casual-station",
    "outputId": "1dc5abbf-10a4-4e72-d2be-6d643c7e6619"
   },
   "outputs": [
    {
     "data": {
      "text/html": [
       "<div>\n",
       "<style scoped>\n",
       "    .dataframe tbody tr th:only-of-type {\n",
       "        vertical-align: middle;\n",
       "    }\n",
       "\n",
       "    .dataframe tbody tr th {\n",
       "        vertical-align: top;\n",
       "    }\n",
       "\n",
       "    .dataframe thead th {\n",
       "        text-align: right;\n",
       "    }\n",
       "</style>\n",
       "<table border=\"1\" class=\"dataframe\">\n",
       "  <thead>\n",
       "    <tr style=\"text-align: right;\">\n",
       "      <th></th>\n",
       "      <th>num_children</th>\n",
       "      <th>social_class</th>\n",
       "      <th>female</th>\n",
       "      <th>male</th>\n",
       "    </tr>\n",
       "  </thead>\n",
       "  <tbody>\n",
       "    <tr>\n",
       "      <th>0</th>\n",
       "      <td>4</td>\n",
       "      <td>1.0</td>\n",
       "      <td>1.0</td>\n",
       "      <td>0.0</td>\n",
       "    </tr>\n",
       "    <tr>\n",
       "      <th>1</th>\n",
       "      <td>1</td>\n",
       "      <td>2.0</td>\n",
       "      <td>0.0</td>\n",
       "      <td>1.0</td>\n",
       "    </tr>\n",
       "    <tr>\n",
       "      <th>2</th>\n",
       "      <td>1</td>\n",
       "      <td>3.0</td>\n",
       "      <td>0.0</td>\n",
       "      <td>1.0</td>\n",
       "    </tr>\n",
       "    <tr>\n",
       "      <th>3</th>\n",
       "      <td>0</td>\n",
       "      <td>2.0</td>\n",
       "      <td>0.0</td>\n",
       "      <td>1.0</td>\n",
       "    </tr>\n",
       "    <tr>\n",
       "      <th>4</th>\n",
       "      <td>1</td>\n",
       "      <td>1.0</td>\n",
       "      <td>0.0</td>\n",
       "      <td>1.0</td>\n",
       "    </tr>\n",
       "    <tr>\n",
       "      <th>...</th>\n",
       "      <td>...</td>\n",
       "      <td>...</td>\n",
       "      <td>...</td>\n",
       "      <td>...</td>\n",
       "    </tr>\n",
       "    <tr>\n",
       "      <th>995</th>\n",
       "      <td>1</td>\n",
       "      <td>3.0</td>\n",
       "      <td>0.0</td>\n",
       "      <td>1.0</td>\n",
       "    </tr>\n",
       "    <tr>\n",
       "      <th>996</th>\n",
       "      <td>4</td>\n",
       "      <td>3.0</td>\n",
       "      <td>1.0</td>\n",
       "      <td>0.0</td>\n",
       "    </tr>\n",
       "    <tr>\n",
       "      <th>997</th>\n",
       "      <td>0</td>\n",
       "      <td>2.0</td>\n",
       "      <td>0.0</td>\n",
       "      <td>1.0</td>\n",
       "    </tr>\n",
       "    <tr>\n",
       "      <th>998</th>\n",
       "      <td>1</td>\n",
       "      <td>2.0</td>\n",
       "      <td>0.0</td>\n",
       "      <td>1.0</td>\n",
       "    </tr>\n",
       "    <tr>\n",
       "      <th>999</th>\n",
       "      <td>0</td>\n",
       "      <td>1.0</td>\n",
       "      <td>0.0</td>\n",
       "      <td>1.0</td>\n",
       "    </tr>\n",
       "  </tbody>\n",
       "</table>\n",
       "<p>1000 rows × 4 columns</p>\n",
       "</div>"
      ],
      "text/plain": [
       "     num_children  social_class  female  male\n",
       "0               4           1.0     1.0   0.0\n",
       "1               1           2.0     0.0   1.0\n",
       "2               1           3.0     0.0   1.0\n",
       "3               0           2.0     0.0   1.0\n",
       "4               1           1.0     0.0   1.0\n",
       "..            ...           ...     ...   ...\n",
       "995             1           3.0     0.0   1.0\n",
       "996             4           3.0     1.0   0.0\n",
       "997             0           2.0     0.0   1.0\n",
       "998             1           2.0     0.0   1.0\n",
       "999             0           1.0     0.0   1.0\n",
       "\n",
       "[1000 rows x 4 columns]"
      ]
     },
     "execution_count": 39,
     "metadata": {
      "tags": []
     },
     "output_type": "execute_result"
    }
   ],
   "source": [
    "#X['social_class'].unique()\n",
    "\n",
    "from sklearn.preprocessing import OrdinalEncoder\n",
    "\n",
    "encoder = OrdinalEncoder(categories=[['Lower','Middle-Lower','Middle-Middle', 'Middle-Upper', 'Upper']])\n",
    "X['social_class'] = encoder.fit_transform(X[['social_class']])\n",
    "\n",
    "X"
   ]
  },
  {
   "cell_type": "markdown",
   "metadata": {
    "id": "exempt-liability"
   },
   "source": [
    "#### Exercise 2.5\n",
    "\n",
    "Write the code to split the datasets ```X``` and ```y``` into separate training set and a test set using the sklearn library. Use the common names ```X_train, X_test, y_train, y_test```."
   ]
  },
  {
   "cell_type": "code",
   "execution_count": 40,
   "metadata": {
    "colab": {
     "base_uri": "https://localhost:8080/"
    },
    "id": "becoming-discipline",
    "outputId": "fd584b17-ffef-490c-9a18-e32da9976f10"
   },
   "outputs": [
    {
     "data": {
      "text/plain": [
       "(     num_children  social_class  female  male\n",
       " 288             2           4.0     0.0   1.0\n",
       " 311             2           2.0     0.0   1.0\n",
       " 617             4           1.0     0.0   1.0\n",
       " 262             4           0.0     0.0   1.0\n",
       " 13              2           4.0     0.0   1.0\n",
       " ..            ...           ...     ...   ...\n",
       " 155             4           1.0     1.0   0.0\n",
       " 582             2           0.0     0.0   1.0\n",
       " 709             0           1.0     1.0   0.0\n",
       " 200             1           2.0     1.0   0.0\n",
       " 702             1           3.0     0.0   1.0\n",
       " \n",
       " [750 rows x 4 columns],      num_children  social_class  female  male\n",
       " 963             0           0.0     0.0   1.0\n",
       " 711             2           4.0     0.0   1.0\n",
       " 125             2           0.0     0.0   1.0\n",
       " 856             2           3.0     1.0   0.0\n",
       " 526             5           1.0     1.0   0.0\n",
       " ..            ...           ...     ...   ...\n",
       " 768             0           4.0     1.0   0.0\n",
       " 604             3           1.0     0.0   1.0\n",
       " 979             4           2.0     1.0   0.0\n",
       " 754             0           1.0     1.0   0.0\n",
       " 396             0           0.0     1.0   0.0\n",
       " \n",
       " [250 rows x 4 columns], 288    6597.3\n",
       " 311    3121.8\n",
       " 617    2457.0\n",
       " 262    1296.2\n",
       " 13     4289.0\n",
       "         ...  \n",
       " 155    2558.9\n",
       " 582    2345.0\n",
       " 709    2747.8\n",
       " 200    5071.8\n",
       " 702    5740.1\n",
       " Name: income, Length: 750, dtype: float64, 963    1042.6\n",
       " 711    4642.0\n",
       " 125    4467.1\n",
       " 856    3200.0\n",
       " 526    2015.2\n",
       "         ...  \n",
       " 768    8043.4\n",
       " 604    3084.1\n",
       " 979    3335.0\n",
       " 754    2320.2\n",
       " 396    1358.3\n",
       " Name: income, Length: 250, dtype: float64)"
      ]
     },
     "execution_count": 40,
     "metadata": {
      "tags": []
     },
     "output_type": "execute_result"
    }
   ],
   "source": [
    "from sklearn.model_selection import train_test_split\n",
    "X_train, X_test, y_train, y_test = train_test_split(X,y)\n",
    "X_train, X_test, y_train, y_test"
   ]
  },
  {
   "cell_type": "markdown",
   "metadata": {
    "id": "excess-lounge"
   },
   "source": [
    "#### Exercise 2.6\n",
    "\n",
    "Write the code to correctly normalize datasets ```X_train``` and ```X_test``` using the StandardScaler from the sklearn library."
   ]
  },
  {
   "cell_type": "code",
   "execution_count": 41,
   "metadata": {
    "colab": {
     "base_uri": "https://localhost:8080/"
    },
    "id": "unknown-ladder",
    "outputId": "758bf274-f87e-428b-a786-0ec654415769"
   },
   "outputs": [
    {
     "data": {
      "text/plain": [
       "array([[ 0.23338003,  1.83428387, -0.65881288,  0.65881288],\n",
       "       [ 0.23338003,  0.15042475, -0.65881288,  0.65881288],\n",
       "       [ 1.46602101, -0.69150481, -0.65881288,  0.65881288],\n",
       "       ...,\n",
       "       [-0.99926096, -0.69150481,  1.51788167, -1.51788167],\n",
       "       [-0.38294047,  0.15042475,  1.51788167, -1.51788167],\n",
       "       [-0.38294047,  0.99235431, -0.65881288,  0.65881288]])"
      ]
     },
     "execution_count": 41,
     "metadata": {
      "tags": []
     },
     "output_type": "execute_result"
    }
   ],
   "source": [
    "from sklearn.preprocessing import StandardScaler\n",
    "\n",
    "scaler = StandardScaler()\n",
    "X_train=scaler.fit_transform(X_train)\n",
    "X_test=scaler.fit_transform(X_test)\n",
    "\n",
    "X_train"
   ]
  },
  {
   "cell_type": "markdown",
   "metadata": {
    "id": "convertible-somewhere"
   },
   "source": [
    "## Exercise 3\n",
    "\n",
    "There is a lot of controversy about the relationship between income and ideology. Let's explore a little bit this relationship. However, before we need to pre-process a little bit the data. We have the following attributes:\n",
    "\n",
    "* Gender\n",
    "* Political_ideology\n",
    "* Income\n",
    "* Job_satisfaction\n",
    "\n",
    "Follow this [link](https://urledu-my.sharepoint.com/:u:/g/personal/jordi_nin_esade_edu/EQBnu4Tq0E9IqpfN-AYbsTABUdpW6bSa9ax8bziVSa-cRg?e=soeYUG) to download the dataset in a csv format. You might need to unzip it. \n",
    "\n",
    "#### Exercise 3.1\n",
    "\n",
    "Create a dataframe called ```data``` that stores the provided data."
   ]
  },
  {
   "cell_type": "code",
   "execution_count": 76,
   "metadata": {
    "colab": {
     "base_uri": "https://localhost:8080/",
     "height": 195
    },
    "id": "regulation-patient",
    "outputId": "ab4be4a8-c591-4786-b39c-82911ed8b6f7"
   },
   "outputs": [
    {
     "data": {
      "text/html": [
       "<div>\n",
       "<style scoped>\n",
       "    .dataframe tbody tr th:only-of-type {\n",
       "        vertical-align: middle;\n",
       "    }\n",
       "\n",
       "    .dataframe tbody tr th {\n",
       "        vertical-align: top;\n",
       "    }\n",
       "\n",
       "    .dataframe thead th {\n",
       "        text-align: right;\n",
       "    }\n",
       "</style>\n",
       "<table border=\"1\" class=\"dataframe\">\n",
       "  <thead>\n",
       "    <tr style=\"text-align: right;\">\n",
       "      <th></th>\n",
       "      <th>gender</th>\n",
       "      <th>political_ideology</th>\n",
       "      <th>income</th>\n",
       "      <th>job_satisfaction</th>\n",
       "    </tr>\n",
       "  </thead>\n",
       "  <tbody>\n",
       "    <tr>\n",
       "      <th>0</th>\n",
       "      <td>Female</td>\n",
       "      <td>right_wing</td>\n",
       "      <td>2500.0</td>\n",
       "      <td>2</td>\n",
       "    </tr>\n",
       "    <tr>\n",
       "      <th>1</th>\n",
       "      <td>Male</td>\n",
       "      <td>left_wing</td>\n",
       "      <td>3002.3</td>\n",
       "      <td>2</td>\n",
       "    </tr>\n",
       "    <tr>\n",
       "      <th>2</th>\n",
       "      <td>Male</td>\n",
       "      <td>center_wing</td>\n",
       "      <td>4274.1</td>\n",
       "      <td>7</td>\n",
       "    </tr>\n",
       "    <tr>\n",
       "      <th>3</th>\n",
       "      <td>Male</td>\n",
       "      <td>center_wing</td>\n",
       "      <td>1200.0</td>\n",
       "      <td>5</td>\n",
       "    </tr>\n",
       "    <tr>\n",
       "      <th>4</th>\n",
       "      <td>Male</td>\n",
       "      <td>center_wing</td>\n",
       "      <td>2774.6</td>\n",
       "      <td>5</td>\n",
       "    </tr>\n",
       "  </tbody>\n",
       "</table>\n",
       "</div>"
      ],
      "text/plain": [
       "   gender political_ideology  income  job_satisfaction\n",
       "0  Female         right_wing  2500.0                 2\n",
       "1    Male          left_wing  3002.3                 2\n",
       "2    Male        center_wing  4274.1                 7\n",
       "3    Male        center_wing  1200.0                 5\n",
       "4    Male        center_wing  2774.6                 5"
      ]
     },
     "execution_count": 76,
     "metadata": {
      "tags": []
     },
     "output_type": "execute_result"
    }
   ],
   "source": [
    "import pandas as pd\n",
    "\n",
    "data = pd.read_csv('/content/ideology_income.csv')\n",
    "data.head()"
   ]
  },
  {
   "cell_type": "markdown",
   "metadata": {
    "id": "behind-pacific"
   },
   "source": [
    "#### Exercise 3.2\n",
    "\n",
    "Extract the features matrix and target array from the original DataFrame and store them in two new variables ```X``` and ```y```. Use column ```job_satisfaction``` as depedent variable."
   ]
  },
  {
   "cell_type": "code",
   "execution_count": 77,
   "metadata": {
    "colab": {
     "base_uri": "https://localhost:8080/",
     "height": 402
    },
    "id": "expressed-cache",
    "outputId": "40efdece-81ad-4d12-ad13-78b1b4c912e6"
   },
   "outputs": [
    {
     "data": {
      "text/html": [
       "<div>\n",
       "<style scoped>\n",
       "    .dataframe tbody tr th:only-of-type {\n",
       "        vertical-align: middle;\n",
       "    }\n",
       "\n",
       "    .dataframe tbody tr th {\n",
       "        vertical-align: top;\n",
       "    }\n",
       "\n",
       "    .dataframe thead th {\n",
       "        text-align: right;\n",
       "    }\n",
       "</style>\n",
       "<table border=\"1\" class=\"dataframe\">\n",
       "  <thead>\n",
       "    <tr style=\"text-align: right;\">\n",
       "      <th></th>\n",
       "      <th>gender</th>\n",
       "      <th>political_ideology</th>\n",
       "      <th>income</th>\n",
       "    </tr>\n",
       "  </thead>\n",
       "  <tbody>\n",
       "    <tr>\n",
       "      <th>0</th>\n",
       "      <td>Female</td>\n",
       "      <td>right_wing</td>\n",
       "      <td>2500.0</td>\n",
       "    </tr>\n",
       "    <tr>\n",
       "      <th>1</th>\n",
       "      <td>Male</td>\n",
       "      <td>left_wing</td>\n",
       "      <td>3002.3</td>\n",
       "    </tr>\n",
       "    <tr>\n",
       "      <th>2</th>\n",
       "      <td>Male</td>\n",
       "      <td>center_wing</td>\n",
       "      <td>4274.1</td>\n",
       "    </tr>\n",
       "    <tr>\n",
       "      <th>3</th>\n",
       "      <td>Male</td>\n",
       "      <td>center_wing</td>\n",
       "      <td>1200.0</td>\n",
       "    </tr>\n",
       "    <tr>\n",
       "      <th>4</th>\n",
       "      <td>Male</td>\n",
       "      <td>center_wing</td>\n",
       "      <td>2774.6</td>\n",
       "    </tr>\n",
       "    <tr>\n",
       "      <th>...</th>\n",
       "      <td>...</td>\n",
       "      <td>...</td>\n",
       "      <td>...</td>\n",
       "    </tr>\n",
       "    <tr>\n",
       "      <th>995</th>\n",
       "      <td>Male</td>\n",
       "      <td>center_wing</td>\n",
       "      <td>3467.9</td>\n",
       "    </tr>\n",
       "    <tr>\n",
       "      <th>996</th>\n",
       "      <td>Female</td>\n",
       "      <td>right_wing</td>\n",
       "      <td>3445.7</td>\n",
       "    </tr>\n",
       "    <tr>\n",
       "      <th>997</th>\n",
       "      <td>Male</td>\n",
       "      <td>center_wing</td>\n",
       "      <td>2728.5</td>\n",
       "    </tr>\n",
       "    <tr>\n",
       "      <th>998</th>\n",
       "      <td>Male</td>\n",
       "      <td>left_wing</td>\n",
       "      <td>3398.7</td>\n",
       "    </tr>\n",
       "    <tr>\n",
       "      <th>999</th>\n",
       "      <td>Male</td>\n",
       "      <td>left_wing</td>\n",
       "      <td>1258.9</td>\n",
       "    </tr>\n",
       "  </tbody>\n",
       "</table>\n",
       "<p>1000 rows × 3 columns</p>\n",
       "</div>"
      ],
      "text/plain": [
       "     gender political_ideology  income\n",
       "0    Female         right_wing  2500.0\n",
       "1      Male          left_wing  3002.3\n",
       "2      Male        center_wing  4274.1\n",
       "3      Male        center_wing  1200.0\n",
       "4      Male        center_wing  2774.6\n",
       "..      ...                ...     ...\n",
       "995    Male        center_wing  3467.9\n",
       "996  Female         right_wing  3445.7\n",
       "997    Male        center_wing  2728.5\n",
       "998    Male          left_wing  3398.7\n",
       "999    Male          left_wing  1258.9\n",
       "\n",
       "[1000 rows x 3 columns]"
      ]
     },
     "execution_count": 77,
     "metadata": {
      "tags": []
     },
     "output_type": "execute_result"
    }
   ],
   "source": [
    "y = data['job_satisfaction']\n",
    "X = data.drop(columns='job_satisfaction')\n",
    "\n",
    "X"
   ]
  },
  {
   "cell_type": "markdown",
   "metadata": {
    "id": "arranged-attempt"
   },
   "source": [
    "#### Exercise 3.3\n",
    "\n",
    "Use the sklearn library to create a one-hot encoder for the ```political_ideology``` attribute. Observe the encoder output, and store the information in two new columns called ```left_wing```, ```center_wing``` and ```right_wing```."
   ]
  },
  {
   "cell_type": "code",
   "execution_count": 78,
   "metadata": {
    "colab": {
     "base_uri": "https://localhost:8080/",
     "height": 195
    },
    "id": "floral-canon",
    "outputId": "5ade8297-5624-4119-e12b-29d9c24cd5d2"
   },
   "outputs": [
    {
     "data": {
      "text/html": [
       "<div>\n",
       "<style scoped>\n",
       "    .dataframe tbody tr th:only-of-type {\n",
       "        vertical-align: middle;\n",
       "    }\n",
       "\n",
       "    .dataframe tbody tr th {\n",
       "        vertical-align: top;\n",
       "    }\n",
       "\n",
       "    .dataframe thead th {\n",
       "        text-align: right;\n",
       "    }\n",
       "</style>\n",
       "<table border=\"1\" class=\"dataframe\">\n",
       "  <thead>\n",
       "    <tr style=\"text-align: right;\">\n",
       "      <th></th>\n",
       "      <th>gender</th>\n",
       "      <th>political_ideology</th>\n",
       "      <th>income</th>\n",
       "      <th>center_wing</th>\n",
       "      <th>left_wing</th>\n",
       "      <th>right_wing</th>\n",
       "    </tr>\n",
       "  </thead>\n",
       "  <tbody>\n",
       "    <tr>\n",
       "      <th>0</th>\n",
       "      <td>Female</td>\n",
       "      <td>right_wing</td>\n",
       "      <td>2500.0</td>\n",
       "      <td>0.0</td>\n",
       "      <td>0.0</td>\n",
       "      <td>1.0</td>\n",
       "    </tr>\n",
       "    <tr>\n",
       "      <th>1</th>\n",
       "      <td>Male</td>\n",
       "      <td>left_wing</td>\n",
       "      <td>3002.3</td>\n",
       "      <td>0.0</td>\n",
       "      <td>1.0</td>\n",
       "      <td>0.0</td>\n",
       "    </tr>\n",
       "    <tr>\n",
       "      <th>2</th>\n",
       "      <td>Male</td>\n",
       "      <td>center_wing</td>\n",
       "      <td>4274.1</td>\n",
       "      <td>1.0</td>\n",
       "      <td>0.0</td>\n",
       "      <td>0.0</td>\n",
       "    </tr>\n",
       "    <tr>\n",
       "      <th>3</th>\n",
       "      <td>Male</td>\n",
       "      <td>center_wing</td>\n",
       "      <td>1200.0</td>\n",
       "      <td>1.0</td>\n",
       "      <td>0.0</td>\n",
       "      <td>0.0</td>\n",
       "    </tr>\n",
       "    <tr>\n",
       "      <th>4</th>\n",
       "      <td>Male</td>\n",
       "      <td>center_wing</td>\n",
       "      <td>2774.6</td>\n",
       "      <td>1.0</td>\n",
       "      <td>0.0</td>\n",
       "      <td>0.0</td>\n",
       "    </tr>\n",
       "  </tbody>\n",
       "</table>\n",
       "</div>"
      ],
      "text/plain": [
       "   gender political_ideology  income  center_wing  left_wing  right_wing\n",
       "0  Female         right_wing  2500.0          0.0        0.0         1.0\n",
       "1    Male          left_wing  3002.3          0.0        1.0         0.0\n",
       "2    Male        center_wing  4274.1          1.0        0.0         0.0\n",
       "3    Male        center_wing  1200.0          1.0        0.0         0.0\n",
       "4    Male        center_wing  2774.6          1.0        0.0         0.0"
      ]
     },
     "execution_count": 78,
     "metadata": {
      "tags": []
     },
     "output_type": "execute_result"
    }
   ],
   "source": [
    "#data['political_ideology'].unique()\n",
    "\n",
    "from sklearn.preprocessing import OneHotEncoder\n",
    "\n",
    "encoder = OneHotEncoder(sparse=False)\n",
    "val = encoder.fit_transform(X[['political_ideology']])\n",
    "\n",
    "#val\n",
    "\n",
    "X['center_wing'] = val[:,0]\n",
    "X['left_wing'] = val[:,1]\n",
    "X['right_wing'] = val[:,2]\n",
    "\n",
    "X.head()"
   ]
  },
  {
   "cell_type": "code",
   "execution_count": 79,
   "metadata": {
    "colab": {
     "base_uri": "https://localhost:8080/"
    },
    "id": "ODTHnsrMpD3D",
    "outputId": "5a50969a-4f74-4bd5-d575-0d355e55f761"
   },
   "outputs": [
    {
     "name": "stdout",
     "output_type": "stream",
     "text": [
      "Information of row on the original dataset\n",
      "gender                    Female\n",
      "political_ideology    right_wing\n",
      "income                      2500\n",
      "Name: 0, dtype: object\n",
      "Encoded information of the variable\n"
     ]
    },
    {
     "data": {
      "text/plain": [
       "array([0., 0., 1.])"
      ]
     },
     "execution_count": 79,
     "metadata": {
      "tags": []
     },
     "output_type": "execute_result"
    }
   ],
   "source": [
    "row = 0\n",
    "print('Information of row on the original dataset')\n",
    "print(X.iloc[row,:3])\n",
    "print('Encoded information of the variable')\n",
    "val[row,:]"
   ]
  },
  {
   "cell_type": "code",
   "execution_count": 80,
   "metadata": {
    "colab": {
     "base_uri": "https://localhost:8080/"
    },
    "id": "17DtYWGspQGh",
    "outputId": "95f60d52-2199-45f9-b3f5-9b441a92eba6"
   },
   "outputs": [
    {
     "name": "stdout",
     "output_type": "stream",
     "text": [
      "Information of row on the original dataset\n",
      "gender                     Male\n",
      "political_ideology    left_wing\n",
      "income                   3002.3\n",
      "Name: 1, dtype: object\n",
      "Encoded information of the variable\n"
     ]
    },
    {
     "data": {
      "text/plain": [
       "array([0., 1., 0.])"
      ]
     },
     "execution_count": 80,
     "metadata": {
      "tags": []
     },
     "output_type": "execute_result"
    }
   ],
   "source": [
    "row = 1\n",
    "print('Information of row on the original dataset')\n",
    "print(X.iloc[row,:3])\n",
    "print('Encoded information of the variable')\n",
    "val[row,:]"
   ]
  },
  {
   "cell_type": "code",
   "execution_count": 81,
   "metadata": {
    "colab": {
     "base_uri": "https://localhost:8080/"
    },
    "id": "Y4L5PLXcpQXP",
    "outputId": "ae8627cd-465c-4200-fa7c-105ceaeba0ba"
   },
   "outputs": [
    {
     "name": "stdout",
     "output_type": "stream",
     "text": [
      "Information of row on the original dataset\n",
      "gender                       Male\n",
      "political_ideology    center_wing\n",
      "income                     4274.1\n",
      "Name: 2, dtype: object\n",
      "Encoded information of the variable\n"
     ]
    },
    {
     "data": {
      "text/plain": [
       "array([1., 0., 0.])"
      ]
     },
     "execution_count": 81,
     "metadata": {
      "tags": []
     },
     "output_type": "execute_result"
    }
   ],
   "source": [
    "row = 2\n",
    "print('Information of row on the original dataset')\n",
    "print(X.iloc[row,:3])\n",
    "print('Encoded information of the variable')\n",
    "val[row,:]"
   ]
  },
  {
   "cell_type": "markdown",
   "metadata": {
    "id": "geographic-nickname"
   },
   "source": [
    "#### Exercise 3.4\n",
    "\n",
    "Write the code to split the datasets ```X``` and ```y``` into separate training set and a test set using the sklearn library. Use the common names ```X_train, X_test, y_train, y_test```."
   ]
  },
  {
   "cell_type": "code",
   "execution_count": 52,
   "metadata": {
    "colab": {
     "base_uri": "https://localhost:8080/"
    },
    "id": "adopted-practitioner",
    "outputId": "91f3fe09-7658-496b-8de8-f2c4b7c89803"
   },
   "outputs": [
    {
     "data": {
      "text/plain": [
       "(     income  center_wing  left_wing  right_wing\n",
       " 693  2229.6          1.0        0.0         0.0\n",
       " 724  5964.6          1.0        0.0         0.0\n",
       " 683  2679.0          0.0        0.0         1.0\n",
       " 116  2181.6          1.0        0.0         0.0\n",
       " 997  2728.5          1.0        0.0         0.0\n",
       " ..      ...          ...        ...         ...\n",
       " 810  1053.2          0.0        1.0         0.0\n",
       " 262  1296.2          1.0        0.0         0.0\n",
       " 944  2716.3          1.0        0.0         0.0\n",
       " 384  3789.0          0.0        1.0         0.0\n",
       " 721  2663.3          0.0        1.0         0.0\n",
       " \n",
       " [750 rows x 4 columns],      income  center_wing  left_wing  right_wing\n",
       " 678  2796.4          1.0        0.0         0.0\n",
       " 598  4245.3          1.0        0.0         0.0\n",
       " 362  1345.6          0.0        1.0         0.0\n",
       " 700  3255.5          0.0        1.0         0.0\n",
       " 988  1200.2          1.0        0.0         0.0\n",
       " ..      ...          ...        ...         ...\n",
       " 742  3875.2          0.0        1.0         0.0\n",
       " 430  3565.9          0.0        1.0         0.0\n",
       " 199  2700.0          1.0        0.0         0.0\n",
       " 953  3800.0          1.0        0.0         0.0\n",
       " 252  2974.6          1.0        0.0         0.0\n",
       " \n",
       " [250 rows x 4 columns], 693    2\n",
       " 724    7\n",
       " 683    2\n",
       " 116    4\n",
       " 997    2\n",
       "       ..\n",
       " 810    1\n",
       " 262    2\n",
       " 944    3\n",
       " 384    5\n",
       " 721    2\n",
       " Name: job_satisfaction, Length: 750, dtype: int64, 678    5\n",
       " 598    4\n",
       " 362    3\n",
       " 700    3\n",
       " 988    1\n",
       "       ..\n",
       " 742    5\n",
       " 430    4\n",
       " 199    2\n",
       " 953    5\n",
       " 252    3\n",
       " Name: job_satisfaction, Length: 250, dtype: int64)"
      ]
     },
     "execution_count": 52,
     "metadata": {
      "tags": []
     },
     "output_type": "execute_result"
    }
   ],
   "source": [
    "X.drop(columns=['gender','political_ideology'],inplace=True)\n",
    "\n",
    "from sklearn.model_selection import train_test_split\n",
    "\n",
    "X_train, X_test, y_train, y_test = train_test_split(X,y)\n",
    "X_train, X_test, y_train, y_test"
   ]
  },
  {
   "cell_type": "markdown",
   "metadata": {
    "id": "pediatric-formation"
   },
   "source": [
    "#### Exercise 3.5\n",
    "\n",
    "Write the code to correctly normalize datasets ```X_train``` and ```X_test``` using the MinMaxScaler from the sklearn library."
   ]
  },
  {
   "cell_type": "code",
   "execution_count": 54,
   "metadata": {
    "id": "homeless-parallel"
   },
   "outputs": [],
   "source": [
    "from sklearn.preprocessing import MinMaxScaler\n",
    "\n",
    "scaler = MinMaxScaler()\n",
    "X_train=scaler.fit_transform(X_train)\n",
    "X_test=scaler.fit_transform(X_test)\n",
    "\n",
    "#X_test"
   ]
  },
  {
   "cell_type": "markdown",
   "metadata": {
    "id": "independent-lodge"
   },
   "source": [
    "## Exercise 4\n",
    "\n",
    "Milk consumption is important variable to avoid aging problems. Let's analyze a little bit if there are different habits in the population. We have the following attributes:\n",
    "\n",
    "* gender\n",
    "* height\n",
    "* weight\n",
    "* milk\n",
    "\n",
    "Follow this [link](https://urledu-my.sharepoint.com/:u:/g/personal/jordi_nin_esade_edu/EfzGDqV3KUVKl9D460iyzg0BERHvg-PMZ-yH-90I9rknKQ?e=oNP89D) to download the dataset in a csv format. You might need to unzip it. \n",
    "\n",
    "#### Exercise 4.1\n",
    "\n",
    "Create a dataframe called ```data``` that stores the provided data."
   ]
  },
  {
   "cell_type": "code",
   "execution_count": 82,
   "metadata": {
    "colab": {
     "base_uri": "https://localhost:8080/",
     "height": 195
    },
    "id": "conscious-approval",
    "outputId": "171b724e-0fc4-4016-e342-de843349c5de"
   },
   "outputs": [
    {
     "data": {
      "text/html": [
       "<div>\n",
       "<style scoped>\n",
       "    .dataframe tbody tr th:only-of-type {\n",
       "        vertical-align: middle;\n",
       "    }\n",
       "\n",
       "    .dataframe tbody tr th {\n",
       "        vertical-align: top;\n",
       "    }\n",
       "\n",
       "    .dataframe thead th {\n",
       "        text-align: right;\n",
       "    }\n",
       "</style>\n",
       "<table border=\"1\" class=\"dataframe\">\n",
       "  <thead>\n",
       "    <tr style=\"text-align: right;\">\n",
       "      <th></th>\n",
       "      <th>gender</th>\n",
       "      <th>height</th>\n",
       "      <th>weight</th>\n",
       "      <th>milk</th>\n",
       "    </tr>\n",
       "  </thead>\n",
       "  <tbody>\n",
       "    <tr>\n",
       "      <th>0</th>\n",
       "      <td>Female</td>\n",
       "      <td>181</td>\n",
       "      <td>71</td>\n",
       "      <td>26.38</td>\n",
       "    </tr>\n",
       "    <tr>\n",
       "      <th>1</th>\n",
       "      <td>Male</td>\n",
       "      <td>176</td>\n",
       "      <td>68</td>\n",
       "      <td>12.53</td>\n",
       "    </tr>\n",
       "    <tr>\n",
       "      <th>2</th>\n",
       "      <td>Male</td>\n",
       "      <td>175</td>\n",
       "      <td>86</td>\n",
       "      <td>13.31</td>\n",
       "    </tr>\n",
       "    <tr>\n",
       "      <th>3</th>\n",
       "      <td>Male</td>\n",
       "      <td>170</td>\n",
       "      <td>72</td>\n",
       "      <td>6.22</td>\n",
       "    </tr>\n",
       "    <tr>\n",
       "      <th>4</th>\n",
       "      <td>Male</td>\n",
       "      <td>178</td>\n",
       "      <td>82</td>\n",
       "      <td>15.02</td>\n",
       "    </tr>\n",
       "  </tbody>\n",
       "</table>\n",
       "</div>"
      ],
      "text/plain": [
       "   gender  height  weight   milk\n",
       "0  Female     181      71  26.38\n",
       "1    Male     176      68  12.53\n",
       "2    Male     175      86  13.31\n",
       "3    Male     170      72   6.22\n",
       "4    Male     178      82  15.02"
      ]
     },
     "execution_count": 82,
     "metadata": {
      "tags": []
     },
     "output_type": "execute_result"
    }
   ],
   "source": [
    "import pandas as pd\n",
    "data = pd.read_csv('/content/milk_consumption.csv')\n",
    "data.head()"
   ]
  },
  {
   "cell_type": "markdown",
   "metadata": {
    "id": "quarterly-judgment"
   },
   "source": [
    "#### Exercise 4.2\n",
    "\n",
    "Extract the features matrix and target array from the original DataFrame and store them in two new variables ```X``` and ```y```. Use column ```milk``` as depedent variable."
   ]
  },
  {
   "cell_type": "code",
   "execution_count": 83,
   "metadata": {
    "colab": {
     "base_uri": "https://localhost:8080/",
     "height": 402
    },
    "id": "champion-forest",
    "outputId": "b5294439-a80a-4377-dd83-d96bb71a842c"
   },
   "outputs": [
    {
     "data": {
      "text/html": [
       "<div>\n",
       "<style scoped>\n",
       "    .dataframe tbody tr th:only-of-type {\n",
       "        vertical-align: middle;\n",
       "    }\n",
       "\n",
       "    .dataframe tbody tr th {\n",
       "        vertical-align: top;\n",
       "    }\n",
       "\n",
       "    .dataframe thead th {\n",
       "        text-align: right;\n",
       "    }\n",
       "</style>\n",
       "<table border=\"1\" class=\"dataframe\">\n",
       "  <thead>\n",
       "    <tr style=\"text-align: right;\">\n",
       "      <th></th>\n",
       "      <th>gender</th>\n",
       "      <th>height</th>\n",
       "      <th>weight</th>\n",
       "    </tr>\n",
       "  </thead>\n",
       "  <tbody>\n",
       "    <tr>\n",
       "      <th>0</th>\n",
       "      <td>Female</td>\n",
       "      <td>181</td>\n",
       "      <td>71</td>\n",
       "    </tr>\n",
       "    <tr>\n",
       "      <th>1</th>\n",
       "      <td>Male</td>\n",
       "      <td>176</td>\n",
       "      <td>68</td>\n",
       "    </tr>\n",
       "    <tr>\n",
       "      <th>2</th>\n",
       "      <td>Male</td>\n",
       "      <td>175</td>\n",
       "      <td>86</td>\n",
       "    </tr>\n",
       "    <tr>\n",
       "      <th>3</th>\n",
       "      <td>Male</td>\n",
       "      <td>170</td>\n",
       "      <td>72</td>\n",
       "    </tr>\n",
       "    <tr>\n",
       "      <th>4</th>\n",
       "      <td>Male</td>\n",
       "      <td>178</td>\n",
       "      <td>82</td>\n",
       "    </tr>\n",
       "    <tr>\n",
       "      <th>...</th>\n",
       "      <td>...</td>\n",
       "      <td>...</td>\n",
       "      <td>...</td>\n",
       "    </tr>\n",
       "    <tr>\n",
       "      <th>995</th>\n",
       "      <td>Male</td>\n",
       "      <td>173</td>\n",
       "      <td>65</td>\n",
       "    </tr>\n",
       "    <tr>\n",
       "      <th>996</th>\n",
       "      <td>Female</td>\n",
       "      <td>167</td>\n",
       "      <td>57</td>\n",
       "    </tr>\n",
       "    <tr>\n",
       "      <th>997</th>\n",
       "      <td>Male</td>\n",
       "      <td>172</td>\n",
       "      <td>73</td>\n",
       "    </tr>\n",
       "    <tr>\n",
       "      <th>998</th>\n",
       "      <td>Male</td>\n",
       "      <td>168</td>\n",
       "      <td>71</td>\n",
       "    </tr>\n",
       "    <tr>\n",
       "      <th>999</th>\n",
       "      <td>Male</td>\n",
       "      <td>188</td>\n",
       "      <td>64</td>\n",
       "    </tr>\n",
       "  </tbody>\n",
       "</table>\n",
       "<p>1000 rows × 3 columns</p>\n",
       "</div>"
      ],
      "text/plain": [
       "     gender  height  weight\n",
       "0    Female     181      71\n",
       "1      Male     176      68\n",
       "2      Male     175      86\n",
       "3      Male     170      72\n",
       "4      Male     178      82\n",
       "..      ...     ...     ...\n",
       "995    Male     173      65\n",
       "996  Female     167      57\n",
       "997    Male     172      73\n",
       "998    Male     168      71\n",
       "999    Male     188      64\n",
       "\n",
       "[1000 rows x 3 columns]"
      ]
     },
     "execution_count": 83,
     "metadata": {
      "tags": []
     },
     "output_type": "execute_result"
    }
   ],
   "source": [
    "X = data.drop(columns='milk')\n",
    "y = data['milk']\n",
    "X"
   ]
  },
  {
   "cell_type": "markdown",
   "metadata": {
    "id": "pretty-straight"
   },
   "source": [
    "#### Exercise 3.3\n",
    "\n",
    "Use the sklearn library to create a one-hot encoder for the ```gender``` attribute. Observe the encoder output, and store the information in two new columns called ```female``` and ```male```."
   ]
  },
  {
   "cell_type": "code",
   "execution_count": 84,
   "metadata": {
    "id": "labeled-liberia"
   },
   "outputs": [],
   "source": [
    "from sklearn.preprocessing import OneHotEncoder\n",
    "\n",
    "encoder = OneHotEncoder(sparse=False)\n",
    "val = encoder.fit_transform(X[['gender']])\n",
    "\n",
    "val\n",
    "\n",
    "X['female'] = val[:,0]\n",
    "X['male'] = val[:,1]"
   ]
  },
  {
   "cell_type": "code",
   "execution_count": 85,
   "metadata": {
    "colab": {
     "base_uri": "https://localhost:8080/"
    },
    "id": "J1DcH3OUnMIp",
    "outputId": "b6831211-0bca-43a4-e7bc-92ca7079a018"
   },
   "outputs": [
    {
     "data": {
      "text/plain": [
       "array([[1., 0.],\n",
       "       [0., 1.],\n",
       "       [0., 1.],\n",
       "       ...,\n",
       "       [0., 1.],\n",
       "       [0., 1.],\n",
       "       [0., 1.]])"
      ]
     },
     "execution_count": 85,
     "metadata": {
      "tags": []
     },
     "output_type": "execute_result"
    }
   ],
   "source": [
    "val"
   ]
  },
  {
   "cell_type": "code",
   "execution_count": 86,
   "metadata": {
    "colab": {
     "base_uri": "https://localhost:8080/"
    },
    "id": "y-wMwil6mtgO",
    "outputId": "335ec595-b29b-4191-8cd0-4cda3bcf7032"
   },
   "outputs": [
    {
     "name": "stdout",
     "output_type": "stream",
     "text": [
      "Information of row on the original dataset\n",
      "gender    Female\n",
      "height       181\n",
      "weight        71\n",
      "Name: 0, dtype: object\n",
      "Encoded information of the variable\n"
     ]
    },
    {
     "data": {
      "text/plain": [
       "array([1., 0.])"
      ]
     },
     "execution_count": 86,
     "metadata": {
      "tags": []
     },
     "output_type": "execute_result"
    }
   ],
   "source": [
    "row = 0\n",
    "print('Information of row on the original dataset')\n",
    "print(X.iloc[row,:3])\n",
    "print('Encoded information of the variable')\n",
    "val[row,:]"
   ]
  },
  {
   "cell_type": "code",
   "execution_count": 87,
   "metadata": {
    "colab": {
     "base_uri": "https://localhost:8080/"
    },
    "id": "4BoE2mhenu-7",
    "outputId": "ae3e7bbb-0f35-4686-e749-04ca5849ed8c"
   },
   "outputs": [
    {
     "name": "stdout",
     "output_type": "stream",
     "text": [
      "Information of row on the original dataset\n",
      "gender    Male\n",
      "height     176\n",
      "weight      68\n",
      "Name: 1, dtype: object\n",
      "Encoded information of the variable\n"
     ]
    },
    {
     "data": {
      "text/plain": [
       "array([0., 1.])"
      ]
     },
     "execution_count": 87,
     "metadata": {
      "tags": []
     },
     "output_type": "execute_result"
    }
   ],
   "source": [
    "row = 1\n",
    "print('Information of row on the original dataset')\n",
    "print(X.iloc[row,:3])\n",
    "print('Encoded information of the variable')\n",
    "val[row,:]"
   ]
  },
  {
   "cell_type": "markdown",
   "metadata": {
    "id": "welsh-reach"
   },
   "source": [
    "#### Exercise 4.4\n",
    "\n",
    "Write the code to split the datasets ```X``` and ```y``` into separate training set and a test set using the sklearn library. Use the common names ```X_train, X_test, y_train, y_test```."
   ]
  },
  {
   "cell_type": "code",
   "execution_count": 91,
   "metadata": {
    "id": "recent-diary"
   },
   "outputs": [],
   "source": [
    "X.drop(columns='gender', inplace=True)\n",
    "\n",
    "from sklearn.model_selection import train_test_split\n",
    "\n",
    "X_train, X_test, y_train, y_test = train_test_split(X,y)"
   ]
  },
  {
   "cell_type": "markdown",
   "metadata": {
    "id": "fantastic-trademark"
   },
   "source": [
    "#### Exercise 3.5\n",
    "\n",
    "Write the code to correctly normalize datasets ```X_train``` and ```X_test``` using the StandarScaler from the sklearn library."
   ]
  },
  {
   "cell_type": "code",
   "execution_count": 92,
   "metadata": {
    "id": "featured-horror"
   },
   "outputs": [],
   "source": [
    "from sklearn.preprocessing import StandardScaler\n",
    "\n",
    "scaler = StandardScaler()\n",
    "X_train=scaler.fit_transform(X_train)\n",
    "X_test=scaler.fit_transform(X_test)"
   ]
  },
  {
   "cell_type": "code",
   "execution_count": 94,
   "metadata": {
    "colab": {
     "base_uri": "https://localhost:8080/"
    },
    "id": "pgsmMCsIqfC0",
    "outputId": "be16ee0f-a8c1-4e88-805b-2e973e49112e"
   },
   "outputs": [
    {
     "data": {
      "text/plain": [
       "array([[ 0.88883751,  1.35075398, -0.66714819,  0.66714819],\n",
       "       [ 0.20209771, -0.3930809 , -0.66714819,  0.66714819],\n",
       "       [-1.66191031, -0.49565942,  1.49891736, -1.49891736],\n",
       "       ...,\n",
       "       [-0.68085346,  1.4533325 , -0.66714819,  0.66714819],\n",
       "       [ 0.69262614, -1.21370907, -0.66714819,  0.66714819],\n",
       "       [-0.3865364 ,  1.35075398, -0.66714819,  0.66714819]])"
      ]
     },
     "execution_count": 94,
     "metadata": {
      "tags": []
     },
     "output_type": "execute_result"
    }
   ],
   "source": [
    "X_train"
   ]
  },
  {
   "cell_type": "code",
   "execution_count": null,
   "metadata": {
    "id": "CmuYJsckqos7"
   },
   "outputs": [],
   "source": []
  }
 ],
 "metadata": {
  "colab": {
   "collapsed_sections": [],
   "name": "IS2021_W9_Data_preparation_sklearn.ipynb",
   "provenance": []
  },
  "kernelspec": {
   "display_name": "Python 3",
   "language": "python",
   "name": "python3"
  },
  "language_info": {
   "codemirror_mode": {
    "name": "ipython",
    "version": 3
   },
   "file_extension": ".py",
   "mimetype": "text/x-python",
   "name": "python",
   "nbconvert_exporter": "python",
   "pygments_lexer": "ipython3",
   "version": "3.8.5"
  }
 },
 "nbformat": 4,
 "nbformat_minor": 5
}
