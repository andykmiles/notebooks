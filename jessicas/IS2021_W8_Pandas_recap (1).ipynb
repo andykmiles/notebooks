{
 "cells": [
  {
   "cell_type": "markdown",
   "metadata": {
    "id": "MQQM5W7orxYm"
   },
   "source": [
    "# Pandas recap"
   ]
  },
  {
   "cell_type": "markdown",
   "metadata": {
    "id": "kw_JoGbRrxYt"
   },
   "source": [
    "## Exercise 1\n",
    "\n",
    "Follow this [link](https://urledu-my.sharepoint.com/:u:/g/personal/jordi_nin_esade_edu/EbBCNJquv19Kgodi0wTJ-HQByq5HWz3bct5xpMuyn1a2ew?e=b7aLtL) to download a dataset containing information about alcoholic beverage consumption in different regions. The dataset is presented in a csv format. You might need to unzip it.\n",
    "\n",
    "The data contain the following attributes:\n",
    "\n",
    "* country\n",
    "* beer_servings\n",
    "* spirit_servigs\n",
    "* wine_servings\n",
    "* total_litres_of_pure_alcohol\n",
    "* continent \n",
    "\n",
    "#### Exercise 1.1\n",
    "\n",
    "Create a dataframe called ```data``` from the provided csv data."
   ]
  },
  {
   "cell_type": "code",
   "execution_count": 1,
   "metadata": {
    "id": "nyCcYB9ZrxYw"
   },
   "outputs": [],
   "source": [
    "import pandas as pd"
   ]
  },
  {
   "cell_type": "code",
   "execution_count": 2,
   "metadata": {
    "id": "7FVVeHAatOLb"
   },
   "outputs": [],
   "source": [
    "df = pd.read_csv(\"/data/client-files/jessica/prod/drinks.csv\")"
   ]
  },
  {
   "cell_type": "code",
   "execution_count": 3,
   "metadata": {
    "colab": {
     "base_uri": "https://localhost:8080/",
     "height": 411
    },
    "id": "z2n5lhdwtVND",
    "outputId": "6040acbc-4759-4fef-eb34-56a868348b68"
   },
   "outputs": [
    {
     "data": {
      "text/html": [
       "<div>\n",
       "<style scoped>\n",
       "    .dataframe tbody tr th:only-of-type {\n",
       "        vertical-align: middle;\n",
       "    }\n",
       "\n",
       "    .dataframe tbody tr th {\n",
       "        vertical-align: top;\n",
       "    }\n",
       "\n",
       "    .dataframe thead th {\n",
       "        text-align: right;\n",
       "    }\n",
       "</style>\n",
       "<table border=\"1\" class=\"dataframe\">\n",
       "  <thead>\n",
       "    <tr style=\"text-align: right;\">\n",
       "      <th></th>\n",
       "      <th>country</th>\n",
       "      <th>beer_servings</th>\n",
       "      <th>spirit_servings</th>\n",
       "      <th>wine_servings</th>\n",
       "      <th>total_litres_of_pure_alcohol</th>\n",
       "      <th>continent</th>\n",
       "    </tr>\n",
       "  </thead>\n",
       "  <tbody>\n",
       "    <tr>\n",
       "      <th>0</th>\n",
       "      <td>Afghanistan</td>\n",
       "      <td>0</td>\n",
       "      <td>0</td>\n",
       "      <td>0</td>\n",
       "      <td>0.0</td>\n",
       "      <td>AS</td>\n",
       "    </tr>\n",
       "    <tr>\n",
       "      <th>1</th>\n",
       "      <td>Albania</td>\n",
       "      <td>89</td>\n",
       "      <td>132</td>\n",
       "      <td>54</td>\n",
       "      <td>4.9</td>\n",
       "      <td>EU</td>\n",
       "    </tr>\n",
       "    <tr>\n",
       "      <th>2</th>\n",
       "      <td>Algeria</td>\n",
       "      <td>25</td>\n",
       "      <td>0</td>\n",
       "      <td>14</td>\n",
       "      <td>0.7</td>\n",
       "      <td>AF</td>\n",
       "    </tr>\n",
       "    <tr>\n",
       "      <th>3</th>\n",
       "      <td>Andorra</td>\n",
       "      <td>245</td>\n",
       "      <td>138</td>\n",
       "      <td>312</td>\n",
       "      <td>12.4</td>\n",
       "      <td>EU</td>\n",
       "    </tr>\n",
       "    <tr>\n",
       "      <th>4</th>\n",
       "      <td>Angola</td>\n",
       "      <td>217</td>\n",
       "      <td>57</td>\n",
       "      <td>45</td>\n",
       "      <td>5.9</td>\n",
       "      <td>AF</td>\n",
       "    </tr>\n",
       "    <tr>\n",
       "      <th>...</th>\n",
       "      <td>...</td>\n",
       "      <td>...</td>\n",
       "      <td>...</td>\n",
       "      <td>...</td>\n",
       "      <td>...</td>\n",
       "      <td>...</td>\n",
       "    </tr>\n",
       "    <tr>\n",
       "      <th>188</th>\n",
       "      <td>Venezuela</td>\n",
       "      <td>333</td>\n",
       "      <td>100</td>\n",
       "      <td>3</td>\n",
       "      <td>7.7</td>\n",
       "      <td>SA</td>\n",
       "    </tr>\n",
       "    <tr>\n",
       "      <th>189</th>\n",
       "      <td>Vietnam</td>\n",
       "      <td>111</td>\n",
       "      <td>2</td>\n",
       "      <td>1</td>\n",
       "      <td>2.0</td>\n",
       "      <td>AS</td>\n",
       "    </tr>\n",
       "    <tr>\n",
       "      <th>190</th>\n",
       "      <td>Yemen</td>\n",
       "      <td>6</td>\n",
       "      <td>0</td>\n",
       "      <td>0</td>\n",
       "      <td>0.1</td>\n",
       "      <td>AS</td>\n",
       "    </tr>\n",
       "    <tr>\n",
       "      <th>191</th>\n",
       "      <td>Zambia</td>\n",
       "      <td>32</td>\n",
       "      <td>19</td>\n",
       "      <td>4</td>\n",
       "      <td>2.5</td>\n",
       "      <td>AF</td>\n",
       "    </tr>\n",
       "    <tr>\n",
       "      <th>192</th>\n",
       "      <td>Zimbabwe</td>\n",
       "      <td>64</td>\n",
       "      <td>18</td>\n",
       "      <td>4</td>\n",
       "      <td>4.7</td>\n",
       "      <td>AF</td>\n",
       "    </tr>\n",
       "  </tbody>\n",
       "</table>\n",
       "<p>193 rows × 6 columns</p>\n",
       "</div>"
      ],
      "text/plain": [
       "         country  beer_servings  spirit_servings  wine_servings  \\\n",
       "0    Afghanistan              0                0              0   \n",
       "1        Albania             89              132             54   \n",
       "2        Algeria             25                0             14   \n",
       "3        Andorra            245              138            312   \n",
       "4         Angola            217               57             45   \n",
       "..           ...            ...              ...            ...   \n",
       "188    Venezuela            333              100              3   \n",
       "189      Vietnam            111                2              1   \n",
       "190        Yemen              6                0              0   \n",
       "191       Zambia             32               19              4   \n",
       "192     Zimbabwe             64               18              4   \n",
       "\n",
       "     total_litres_of_pure_alcohol continent  \n",
       "0                             0.0        AS  \n",
       "1                             4.9        EU  \n",
       "2                             0.7        AF  \n",
       "3                            12.4        EU  \n",
       "4                             5.9        AF  \n",
       "..                            ...       ...  \n",
       "188                           7.7        SA  \n",
       "189                           2.0        AS  \n",
       "190                           0.1        AS  \n",
       "191                           2.5        AF  \n",
       "192                           4.7        AF  \n",
       "\n",
       "[193 rows x 6 columns]"
      ]
     },
     "execution_count": 3,
     "metadata": {},
     "output_type": "execute_result"
    }
   ],
   "source": [
    "df"
   ]
  },
  {
   "cell_type": "markdown",
   "metadata": {
    "id": "_yXDmHdOrxYx"
   },
   "source": [
    "#### Exercise 1.2\n",
    "\n",
    "Write the code to identify the continent for which the sum of ```total_litres_of_pure_alcohol``` is maximum."
   ]
  },
  {
   "cell_type": "code",
   "execution_count": 4,
   "metadata": {
    "colab": {
     "base_uri": "https://localhost:8080/"
    },
    "id": "ZElfF_YBYpmq",
    "outputId": "b824b071-1fe5-4187-8aa2-9de48d98937c"
   },
   "outputs": [
    {
     "data": {
      "text/plain": [
       "0       0.0\n",
       "1       4.9\n",
       "2       0.7\n",
       "3      12.4\n",
       "4       5.9\n",
       "       ... \n",
       "188     7.7\n",
       "189     2.0\n",
       "190     0.1\n",
       "191     2.5\n",
       "192     4.7\n",
       "Name: total_litres_of_pure_alcohol, Length: 193, dtype: float64"
      ]
     },
     "execution_count": 4,
     "metadata": {},
     "output_type": "execute_result"
    }
   ],
   "source": [
    "df[\"total_litres_of_pure_alcohol\"]"
   ]
  },
  {
   "cell_type": "code",
   "execution_count": 5,
   "metadata": {
    "colab": {
     "base_uri": "https://localhost:8080/"
    },
    "id": "gEVtbcE4Z9oy",
    "outputId": "7fbb0d89-06d9-4bd7-98a9-234bfd6b7984"
   },
   "outputs": [
    {
     "data": {
      "text/plain": [
       "continent\n",
       "AF    159.4\n",
       "AS     95.5\n",
       "EU    387.8\n",
       "OC     54.1\n",
       "SA     75.7\n",
       "Name: total_litres_of_pure_alcohol, dtype: float64"
      ]
     },
     "execution_count": 5,
     "metadata": {},
     "output_type": "execute_result"
    }
   ],
   "source": [
    "grouped = df.groupby(\"continent\")\n",
    "grouped[\"total_litres_of_pure_alcohol\"].sum()"
   ]
  },
  {
   "cell_type": "code",
   "execution_count": 6,
   "metadata": {
    "colab": {
     "base_uri": "https://localhost:8080/"
    },
    "id": "iMGadkb_rxYy",
    "outputId": "856ea4cf-2d5d-4173-dece-83a2c7c25e4d"
   },
   "outputs": [
    {
     "data": {
      "text/plain": [
       "387.79999999999995"
      ]
     },
     "execution_count": 6,
     "metadata": {},
     "output_type": "execute_result"
    }
   ],
   "source": [
    "df.groupby([\"continent\"])[\"total_litres_of_pure_alcohol\"].sum().max()"
   ]
  },
  {
   "cell_type": "markdown",
   "metadata": {
    "id": "CAsjdRyNrxYy"
   },
   "source": [
    "#### Exercise 1.3\n",
    "\n",
    "Write the code to identify those European countries where wine is served more than beer"
   ]
  },
  {
   "cell_type": "code",
   "execution_count": 7,
   "metadata": {
    "colab": {
     "base_uri": "https://localhost:8080/",
     "height": 443
    },
    "id": "0Xm4y_ifrxYz",
    "outputId": "f5193500-8abf-4976-c332-f4018d8b56d1"
   },
   "outputs": [
    {
     "data": {
      "text/html": [
       "<div>\n",
       "<style scoped>\n",
       "    .dataframe tbody tr th:only-of-type {\n",
       "        vertical-align: middle;\n",
       "    }\n",
       "\n",
       "    .dataframe tbody tr th {\n",
       "        vertical-align: top;\n",
       "    }\n",
       "\n",
       "    .dataframe thead th {\n",
       "        text-align: right;\n",
       "    }\n",
       "</style>\n",
       "<table border=\"1\" class=\"dataframe\">\n",
       "  <thead>\n",
       "    <tr style=\"text-align: right;\">\n",
       "      <th></th>\n",
       "      <th>country</th>\n",
       "      <th>beer_servings</th>\n",
       "      <th>spirit_servings</th>\n",
       "      <th>wine_servings</th>\n",
       "      <th>total_litres_of_pure_alcohol</th>\n",
       "      <th>continent</th>\n",
       "    </tr>\n",
       "  </thead>\n",
       "  <tbody>\n",
       "    <tr>\n",
       "      <th>3</th>\n",
       "      <td>Andorra</td>\n",
       "      <td>245</td>\n",
       "      <td>138</td>\n",
       "      <td>312</td>\n",
       "      <td>12.4</td>\n",
       "      <td>EU</td>\n",
       "    </tr>\n",
       "    <tr>\n",
       "      <th>42</th>\n",
       "      <td>Croatia</td>\n",
       "      <td>230</td>\n",
       "      <td>87</td>\n",
       "      <td>254</td>\n",
       "      <td>10.2</td>\n",
       "      <td>EU</td>\n",
       "    </tr>\n",
       "    <tr>\n",
       "      <th>48</th>\n",
       "      <td>Denmark</td>\n",
       "      <td>224</td>\n",
       "      <td>81</td>\n",
       "      <td>278</td>\n",
       "      <td>10.4</td>\n",
       "      <td>EU</td>\n",
       "    </tr>\n",
       "    <tr>\n",
       "      <th>61</th>\n",
       "      <td>France</td>\n",
       "      <td>127</td>\n",
       "      <td>151</td>\n",
       "      <td>370</td>\n",
       "      <td>11.8</td>\n",
       "      <td>EU</td>\n",
       "    </tr>\n",
       "    <tr>\n",
       "      <th>64</th>\n",
       "      <td>Georgia</td>\n",
       "      <td>52</td>\n",
       "      <td>100</td>\n",
       "      <td>149</td>\n",
       "      <td>5.4</td>\n",
       "      <td>EU</td>\n",
       "    </tr>\n",
       "    <tr>\n",
       "      <th>67</th>\n",
       "      <td>Greece</td>\n",
       "      <td>133</td>\n",
       "      <td>112</td>\n",
       "      <td>218</td>\n",
       "      <td>8.3</td>\n",
       "      <td>EU</td>\n",
       "    </tr>\n",
       "    <tr>\n",
       "      <th>83</th>\n",
       "      <td>Italy</td>\n",
       "      <td>85</td>\n",
       "      <td>42</td>\n",
       "      <td>237</td>\n",
       "      <td>6.5</td>\n",
       "      <td>EU</td>\n",
       "    </tr>\n",
       "    <tr>\n",
       "      <th>99</th>\n",
       "      <td>Luxembourg</td>\n",
       "      <td>236</td>\n",
       "      <td>133</td>\n",
       "      <td>271</td>\n",
       "      <td>11.4</td>\n",
       "      <td>EU</td>\n",
       "    </tr>\n",
       "    <tr>\n",
       "      <th>113</th>\n",
       "      <td>Montenegro</td>\n",
       "      <td>31</td>\n",
       "      <td>114</td>\n",
       "      <td>128</td>\n",
       "      <td>4.9</td>\n",
       "      <td>EU</td>\n",
       "    </tr>\n",
       "    <tr>\n",
       "      <th>136</th>\n",
       "      <td>Portugal</td>\n",
       "      <td>194</td>\n",
       "      <td>67</td>\n",
       "      <td>339</td>\n",
       "      <td>11.0</td>\n",
       "      <td>EU</td>\n",
       "    </tr>\n",
       "    <tr>\n",
       "      <th>156</th>\n",
       "      <td>Slovenia</td>\n",
       "      <td>270</td>\n",
       "      <td>51</td>\n",
       "      <td>276</td>\n",
       "      <td>10.6</td>\n",
       "      <td>EU</td>\n",
       "    </tr>\n",
       "    <tr>\n",
       "      <th>165</th>\n",
       "      <td>Sweden</td>\n",
       "      <td>152</td>\n",
       "      <td>60</td>\n",
       "      <td>186</td>\n",
       "      <td>7.2</td>\n",
       "      <td>EU</td>\n",
       "    </tr>\n",
       "    <tr>\n",
       "      <th>166</th>\n",
       "      <td>Switzerland</td>\n",
       "      <td>185</td>\n",
       "      <td>100</td>\n",
       "      <td>280</td>\n",
       "      <td>10.2</td>\n",
       "      <td>EU</td>\n",
       "    </tr>\n",
       "  </tbody>\n",
       "</table>\n",
       "</div>"
      ],
      "text/plain": [
       "         country  beer_servings  spirit_servings  wine_servings  \\\n",
       "3        Andorra            245              138            312   \n",
       "42       Croatia            230               87            254   \n",
       "48       Denmark            224               81            278   \n",
       "61        France            127              151            370   \n",
       "64       Georgia             52              100            149   \n",
       "67        Greece            133              112            218   \n",
       "83         Italy             85               42            237   \n",
       "99    Luxembourg            236              133            271   \n",
       "113   Montenegro             31              114            128   \n",
       "136     Portugal            194               67            339   \n",
       "156     Slovenia            270               51            276   \n",
       "165       Sweden            152               60            186   \n",
       "166  Switzerland            185              100            280   \n",
       "\n",
       "     total_litres_of_pure_alcohol continent  \n",
       "3                            12.4        EU  \n",
       "42                           10.2        EU  \n",
       "48                           10.4        EU  \n",
       "61                           11.8        EU  \n",
       "64                            5.4        EU  \n",
       "67                            8.3        EU  \n",
       "83                            6.5        EU  \n",
       "99                           11.4        EU  \n",
       "113                           4.9        EU  \n",
       "136                          11.0        EU  \n",
       "156                          10.6        EU  \n",
       "165                           7.2        EU  \n",
       "166                          10.2        EU  "
      ]
     },
     "execution_count": 7,
     "metadata": {},
     "output_type": "execute_result"
    }
   ],
   "source": [
    "df[(df[\"continent\"] == \"EU\") & (df[\"beer_servings\"] < df[\"wine_servings\"])]"
   ]
  },
  {
   "cell_type": "code",
   "execution_count": 8,
   "metadata": {
    "id": "mSUz4l6obMGR"
   },
   "outputs": [],
   "source": [
    "eu_countries = df[df[\"continent\"]==\"EU\"]"
   ]
  },
  {
   "cell_type": "code",
   "execution_count": null,
   "metadata": {
    "colab": {
     "base_uri": "https://localhost:8080/",
     "height": 443
    },
    "id": "Cb92ZWfTb4XD",
    "outputId": "26a79584-205a-4139-8b5a-97b50d0f60b6"
   },
   "outputs": [],
   "source": [
    "eu_countries[eu_countries[\"beer_servings\"]< eu_countries[\"wine_servings\"]]"
   ]
  },
  {
   "cell_type": "markdown",
   "metadata": {
    "id": "9uyel8PgrxY0"
   },
   "source": [
    "#### Exercise 1.4\n",
    "\n",
    "List the five countries with more servings in total, computed as the sum of wine, beer and spirit servings."
   ]
  },
  {
   "cell_type": "code",
   "execution_count": null,
   "metadata": {
    "id": "BnzjY3MSde3O"
   },
   "outputs": [],
   "source": [
    "df[\"total\"] = df[\"beer_servings\"]+df[\"spirit_servings\"]+df[\"wine_servings\"]"
   ]
  },
  {
   "cell_type": "code",
   "execution_count": null,
   "metadata": {
    "colab": {
     "base_uri": "https://localhost:8080/",
     "height": 200
    },
    "id": "kz5C_MOywImr",
    "outputId": "e26c99f0-c484-43bb-87ce-be3681bdfe68"
   },
   "outputs": [],
   "source": [
    "df.nlargest(5,[\"total\"])"
   ]
  },
  {
   "cell_type": "code",
   "execution_count": null,
   "metadata": {
    "colab": {
     "base_uri": "https://localhost:8080/",
     "height": 200
    },
    "id": "mFfkEpwAeOeu",
    "outputId": "f328c3d8-9ac7-4c0f-ebb0-ad060571db52"
   },
   "outputs": [],
   "source": [
    "df.sort_values(\"total\", ascending= False).head()"
   ]
  },
  {
   "cell_type": "markdown",
   "metadata": {
    "id": "zMgwyMb-rxY3"
   },
   "source": [
    "## Exercise 2\n",
    "\n",
    "Follow this [link](https://urledu-my.sharepoint.com/:u:/g/personal/jordi_nin_esade_edu/EUxpZomwa3dFheR7863EVk8BuSM1O057YgthkWE5PrKHdg?e=hpDNVA) to download a dataset containing information about the census in the city of Barcelona. The dataset is presented in a csv format. You might need to unzip it. \n",
    "\n",
    "Each row in this dataset represents a different census cubicle and is identified by its corresponding ```idsection```. For each cubicle, we have information about the neighborhood and district each census tract belongs (columns ```idneighb```, ```tneighb```, ```iddistrict```, ```tdistrict```). In addition, we also have the following geographic, economic and demographic information:\n",
    "\n",
    "* surface_m2: surface (in m2) of the census section\n",
    "* income: average monthly net incomes by household\n",
    "* population: total population in the census section\n",
    "* men / women: total number of men and women in the census section, respectively\n",
    "* pop_*: total number of inhabitants in the indicated age brackets\n",
    "\n",
    "#### Exercise 2.1\n",
    "\n",
    "Create a dataframe called ```df``` that stores the information in the provided dataset."
   ]
  },
  {
   "cell_type": "code",
   "execution_count": null,
   "metadata": {
    "id": "d0f2N_CLrxY4"
   },
   "outputs": [],
   "source": [
    "df = pd.read_csv(\"/data/client-files/jessica/prod/barcelona_data_pre.csv\")"
   ]
  },
  {
   "cell_type": "code",
   "execution_count": null,
   "metadata": {
    "colab": {
     "base_uri": "https://localhost:8080/",
     "height": 704
    },
    "id": "XtnopOWgy8UF",
    "outputId": "7e50453e-d95a-4e6e-f556-46a7c85a0df9"
   },
   "outputs": [],
   "source": [
    "df"
   ]
  },
  {
   "cell_type": "markdown",
   "metadata": {
    "id": "MfOuC27lrxY4"
   },
   "source": [
    "#### Exercise 2.2\n",
    "\n",
    "Create a new column called ```pop_density``` with the population density in inhabitants by hectare (inhab/ha) for each cubicle. Note: 1 hectare equals 10.000 square meters."
   ]
  },
  {
   "cell_type": "code",
   "execution_count": null,
   "metadata": {
    "id": "QYsf5Qq8rxY5"
   },
   "outputs": [],
   "source": [
    "df[\"pop_density\"] = df[\"population\"] / df[\"surface_m2\"] * 10_000"
   ]
  },
  {
   "cell_type": "code",
   "execution_count": null,
   "metadata": {
    "colab": {
     "base_uri": "https://localhost:8080/",
     "height": 305
    },
    "id": "qO5htmJoKuGj",
    "outputId": "60be2246-42b6-4c71-c8f5-51b4c2342c16"
   },
   "outputs": [],
   "source": [
    "df.head()"
   ]
  },
  {
   "cell_type": "markdown",
   "metadata": {
    "id": "CZuQDlY5rxY5"
   },
   "source": [
    "#### Exercise 2.3\n",
    "\n",
    "Create a new dataframe called ```most-pop``` that contains only those cubicles with a population density greater than 900 inhab/ha. Create a new dataframe named (most_pop) with them."
   ]
  },
  {
   "cell_type": "code",
   "execution_count": null,
   "metadata": {
    "id": "tAt5b6evrxY6"
   },
   "outputs": [],
   "source": [
    "most_pop = df[df[\"pop_density\"] >900]"
   ]
  },
  {
   "cell_type": "code",
   "execution_count": null,
   "metadata": {
    "colab": {
     "base_uri": "https://localhost:8080/",
     "height": 322
    },
    "id": "qfRcBc0rSF5s",
    "outputId": "eb89f9ce-601e-451b-8579-145eb245ee95"
   },
   "outputs": [],
   "source": [
    "most_pop.head()"
   ]
  },
  {
   "cell_type": "markdown",
   "metadata": {
    "id": "nZWHSR2hrxY6"
   },
   "source": [
    "#### Exercise 2.4\n",
    "Write the code to identify the neighborhood where the denser census cubicle is located"
   ]
  },
  {
   "cell_type": "code",
   "execution_count": null,
   "metadata": {
    "id": "lROcRuBorxY7"
   },
   "outputs": [],
   "source": [
    "df.groupby([\"tneighb\"])[\"pop_density\"].sum().nlargest(1)"
   ]
  },
  {
   "cell_type": "markdown",
   "metadata": {
    "id": "VoAHmbxCrxY8"
   },
   "source": [
    "#### **Exercise 2.5**\n",
    "Write the code to compute the population density by district in inhabitants by hectare."
   ]
  },
  {
   "cell_type": "code",
   "execution_count": null,
   "metadata": {
    "id": "3SdN8nACrxY9"
   },
   "outputs": [],
   "source": [
    "district_sum = df.groupby([\"tdistrict\"]).sum()"
   ]
  },
  {
   "cell_type": "code",
   "execution_count": null,
   "metadata": {},
   "outputs": [],
   "source": [
    "district_sum.groupby([\"tneighb\"])[\"pop_density\"].sum().nlargest(1)"
   ]
  },
  {
   "cell_type": "code",
   "execution_count": null,
   "metadata": {},
   "outputs": [],
   "source": [
    "district_sum[\"district_pop_density\"] = district_sum[\"population\"] / district_sum[\"surface_m2\"] * 10_000"
   ]
  },
  {
   "cell_type": "code",
   "execution_count": null,
   "metadata": {},
   "outputs": [],
   "source": [
    "district_sum[\"district_pop_density\"]"
   ]
  },
  {
   "cell_type": "markdown",
   "metadata": {
    "id": "1lgj4fIKrxY9"
   },
   "source": [
    "#### **Exercise 2.6**\n",
    "\n",
    "Create a new column ```income_per_person``` with the income per person for each cubicle. Note: although the incomes are given by household, you can assume that they are actually per person."
   ]
  },
  {
   "cell_type": "code",
   "execution_count": null,
   "metadata": {
    "id": "oUWw_YxZrxY-"
   },
   "outputs": [],
   "source": [
    "# correct? see next cell\n",
    "df[\"income_per_person\"] = df[\"income\"] / df[\"population\"]"
   ]
  },
  {
   "cell_type": "markdown",
   "metadata": {
    "id": "GbbGAJK9rxY-"
   },
   "source": [
    "#### **Exercise 2.7**\n",
    "\n",
    "Write the code to identify the cubicles with a ```income_per_person``` greater than 1.000 euros and with more than 3000 inhabitants."
   ]
  },
  {
   "cell_type": "code",
   "execution_count": null,
   "metadata": {
    "id": "zehNIWKBrxY_"
   },
   "outputs": [],
   "source": [
    "# note > 0\n",
    "\n",
    "df[(df[\"income_per_person\"] > 0) & (df[\"population\"] > 3000)][['idsection','income_per_person','population']]"
   ]
  },
  {
   "cell_type": "markdown",
   "metadata": {
    "id": "qJi8mqGrrxZA"
   },
   "source": [
    "#### **Exercise 2.8**\n",
    "\n",
    "Write the code to identify the cublice with the larger average income."
   ]
  },
  {
   "cell_type": "code",
   "execution_count": null,
   "metadata": {
    "id": "Awc_iuhXrxZA"
   },
   "outputs": [],
   "source": [
    "df[(df[\"income\"] > df[\"income\"].mean())][['idsection','income','population']]"
   ]
  },
  {
   "cell_type": "markdown",
   "metadata": {
    "id": "tOgGp6fKrxZA"
   },
   "source": [
    "#### **Exercise 2.9**\n",
    "\n",
    "Write the code to limit the ```income``` column to a maximum value of 5000€."
   ]
  },
  {
   "cell_type": "code",
   "execution_count": null,
   "metadata": {
    "id": "jELnTU7yrxZB"
   },
   "outputs": [],
   "source": [
    "df[(df[\"income\"] <= 5000)][['idsection','income','population']]"
   ]
  },
  {
   "cell_type": "markdown",
   "metadata": {
    "id": "0Kv0qV-TrxZB"
   },
   "source": [
    "## Exercise 3\n",
    "\n",
    "Follow this [link](https://urledu-my.sharepoint.com/:u:/g/personal/jordi_nin_esade_edu/EecC8IKo5dtBhmZTGKObe94BwcefmbK8__aJVkoOjcO7JQ?e=vFwvtd) to download a dataset containing information about different family structures. The data are presented in a csv format. You might need to unzip it. \n",
    "\n",
    "The dataset contains the following attributes:\n",
    "\n",
    "* gender\n",
    "* num_children\n",
    "* income\n",
    "* social_class\n",
    "\n",
    "#### Exercise 3.1\n",
    "\n",
    "Create a dataframe called ```df``` that contains the provided data"
   ]
  },
  {
   "cell_type": "code",
   "execution_count": null,
   "metadata": {
    "id": "8ixfluAwrxZC"
   },
   "outputs": [],
   "source": [
    "df = pd.read_csv(\"social_class.csv\")"
   ]
  },
  {
   "cell_type": "code",
   "execution_count": null,
   "metadata": {
    "colab": {
     "base_uri": "https://localhost:8080/",
     "height": 411
    },
    "id": "nEd3qYRoBWMR",
    "outputId": "cbc2c84f-8bdb-4945-e6be-ec17940540fd"
   },
   "outputs": [],
   "source": [
    "df"
   ]
  },
  {
   "cell_type": "markdown",
   "metadata": {
    "id": "uICTNDPGrxZC"
   },
   "source": [
    "#### Exercise 3.2\n",
    "\n",
    "Write the code to identify those rows for which the ```social_class``` is ```Upper```."
   ]
  },
  {
   "cell_type": "code",
   "execution_count": null,
   "metadata": {
    "colab": {
     "base_uri": "https://localhost:8080/",
     "height": 411
    },
    "id": "qeAcXMRWrxZC",
    "outputId": "2a778569-4873-45cc-bf8f-a6f345cc512a"
   },
   "outputs": [],
   "source": [
    "df[df[\"social_class\"]== \"Upper\"]"
   ]
  },
  {
   "cell_type": "markdown",
   "metadata": {
    "id": "EKe2ArMHrxZC"
   },
   "source": [
    "#### **Exercise 3.3**\n",
    "\n",
    "Write the code to print out the ```social_class``` frequency table"
   ]
  },
  {
   "cell_type": "code",
   "execution_count": null,
   "metadata": {
    "id": "DAIzcTrJrxZD"
   },
   "outputs": [],
   "source": [
    "df['social_class'] = df['social_class'].astype('category')"
   ]
  },
  {
   "cell_type": "code",
   "execution_count": null,
   "metadata": {
    "id": "jJc9zZuiVFzj"
   },
   "outputs": [],
   "source": [
    "df['social_class_2'] = df['social_class'].cat.codes"
   ]
  },
  {
   "cell_type": "code",
   "execution_count": null,
   "metadata": {
    "colab": {
     "base_uri": "https://localhost:8080/"
    },
    "id": "8xGiqM3PVwae",
    "outputId": "0e5a7d96-21d7-40e2-9f33-1fd672ac0564"
   },
   "outputs": [],
   "source": [
    "df[\"social_class_2\"]"
   ]
  },
  {
   "cell_type": "markdown",
   "metadata": {
    "id": "WoLWSSM5rxZD"
   },
   "source": [
    "#### Exercise 3.4\n",
    "\n",
    "Write the code to compute the average income and num_children for each ```social_class```"
   ]
  },
  {
   "cell_type": "code",
   "execution_count": null,
   "metadata": {
    "colab": {
     "base_uri": "https://localhost:8080/",
     "height": 286
    },
    "id": "_ZP_rPPirxZD",
    "outputId": "5127ef7c-86c1-444d-ad0d-2c3c525a3ad6"
   },
   "outputs": [],
   "source": [
    "df.groupby([\"social_class\"])[\"income\",\"num_children\"].mean()"
   ]
  },
  {
   "cell_type": "markdown",
   "metadata": {
    "id": "86epvWEmrxZE"
   },
   "source": [
    "#### Exercise 3.5\n",
    "\n",
    "Write the code to crate a new column called ```children``` that containg False if the family has no children and True otherwise"
   ]
  },
  {
   "cell_type": "code",
   "execution_count": null,
   "metadata": {
    "id": "5a4HR9lprxZE"
   },
   "outputs": [],
   "source": [
    "df[\"children\"] =df[\"num_children\"]> 0"
   ]
  },
  {
   "cell_type": "code",
   "execution_count": null,
   "metadata": {
    "colab": {
     "base_uri": "https://localhost:8080/",
     "height": 411
    },
    "id": "vCT1qQuZW8Nk",
    "outputId": "84f68d10-5eba-407a-cfe7-d742bcca4570"
   },
   "outputs": [],
   "source": [
    "df"
   ]
  },
  {
   "cell_type": "markdown",
   "metadata": {
    "id": "Uss-lX7krxZE"
   },
   "source": [
    "## Exercise 4\n",
    "\n",
    "Follow this [link](https://urledu-my.sharepoint.com/:u:/g/personal/jordi_nin_esade_edu/Ef8OhH5vmgNPhaLIEWw5U7gBCgHV9sASNWxxw8BFUcZk6g?e=ngxpRg) to download a dataset containing information about labour occupation in the US. The data re represented in a csv format. You might need to unzip it.\n",
    "\n",
    "Expert say that in the near future US will enter in a recession period. To verify this statement, we have the following attributes:\n",
    "\n",
    "* user_id\n",
    "* age\n",
    "* gender\n",
    "* occupation\n",
    "* zip_code\n",
    "\n",
    "#### Exercise 4.1\n",
    "\n",
    "Create a dataframe called ```data``` that stores the provided data."
   ]
  },
  {
   "cell_type": "code",
   "execution_count": null,
   "metadata": {
    "id": "ShvMSmahrxZF"
   },
   "outputs": [],
   "source": [
    "data = pd.read_csv(\"occupation.csv\")"
   ]
  },
  {
   "cell_type": "code",
   "execution_count": null,
   "metadata": {
    "colab": {
     "base_uri": "https://localhost:8080/",
     "height": 411
    },
    "id": "49g60lJgXr8c",
    "outputId": "e905a2e4-ca86-4596-8065-76b3f32856a8"
   },
   "outputs": [],
   "source": [
    "data"
   ]
  },
  {
   "cell_type": "markdown",
   "metadata": {
    "id": "4GGKMGZ9rxZF"
   },
   "source": [
    "#### Exercise 4.2\n",
    "\n",
    "Write the code to compute the average ```age``` by ```gender```"
   ]
  },
  {
   "cell_type": "code",
   "execution_count": null,
   "metadata": {
    "colab": {
     "base_uri": "https://localhost:8080/"
    },
    "id": "Yc6kMC5WrxZF",
    "outputId": "ceca936e-3603-4841-e516-7ee64f454109"
   },
   "outputs": [],
   "source": [
    "data.groupby([\"gender\"])[\"age\"].mean()"
   ]
  },
  {
   "cell_type": "markdown",
   "metadata": {
    "id": "X24cVJ3crxZF"
   },
   "source": [
    "#### **Exercise 4.3**\n",
    "\n",
    "Write the code to identify the two least common occupations"
   ]
  },
  {
   "cell_type": "code",
   "execution_count": null,
   "metadata": {
    "id": "1RCY27DbsrsH"
   },
   "outputs": [],
   "source": []
  },
  {
   "cell_type": "markdown",
   "metadata": {
    "id": "G08I7BWrrxZG"
   },
   "source": [
    "#### **Exercise 4.4.**\n",
    "\n",
    "Write the code to identify the row corresponding to the oldest worker ith occupation equal to homemaker"
   ]
  },
  {
   "cell_type": "code",
   "execution_count": null,
   "metadata": {
    "id": "92sHMiR3rxZG"
   },
   "outputs": [],
   "source": []
  }
 ],
 "metadata": {
  "colab": {
   "name": "IS2021_W8_Pandas_recap.ipynb",
   "provenance": []
  },
  "kernelspec": {
   "display_name": "Python 3",
   "language": "python",
   "name": "python3"
  },
  "language_info": {
   "codemirror_mode": {
    "name": "ipython",
    "version": 3
   },
   "file_extension": ".py",
   "mimetype": "text/x-python",
   "name": "python",
   "nbconvert_exporter": "python",
   "pygments_lexer": "ipython3",
   "version": "3.8.5"
  }
 },
 "nbformat": 4,
 "nbformat_minor": 5
}
