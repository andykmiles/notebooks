{
 "cells": [
  {
   "cell_type": "code",
   "execution_count": 32,
   "metadata": {},
   "outputs": [
    {
     "name": "stdout",
     "output_type": "stream",
     "text": [
      "Hello from Julia\n"
     ]
    }
   ],
   "source": [
    "println(\"Hello from Julia\")"
   ]
  },
  {
   "cell_type": "code",
   "execution_count": 33,
   "metadata": {},
   "outputs": [
    {
     "name": "stderr",
     "output_type": "stream",
     "text": [
      "\u001b[32m\u001b[1m  Resolving\u001b[22m\u001b[39m package versions...\n",
      "\u001b[32m\u001b[1mNo Changes\u001b[22m\u001b[39m to `~/.julia/environments/v1.5/Project.toml`\n",
      "\u001b[32m\u001b[1mNo Changes\u001b[22m\u001b[39m to `~/.julia/environments/v1.5/Manifest.toml`\n",
      "\u001b[32m\u001b[1m  Resolving\u001b[22m\u001b[39m package versions...\n",
      "\u001b[32m\u001b[1mNo Changes\u001b[22m\u001b[39m to `~/.julia/environments/v1.5/Project.toml`\n",
      "\u001b[32m\u001b[1mNo Changes\u001b[22m\u001b[39m to `~/.julia/environments/v1.5/Manifest.toml`\n"
     ]
    }
   ],
   "source": [
    "import Pkg\n",
    "Pkg.add(\"CSV\")\n",
    "Pkg.add(\"DataFrames\")"
   ]
  },
  {
   "cell_type": "code",
   "execution_count": 34,
   "metadata": {},
   "outputs": [
    {
     "data": {
      "text/html": [
       "<table class=\"data-frame\"><thead><tr><th></th><th>raceId</th><th>driverId</th><th>lap</th><th>position</th><th>time</th><th>milliseconds</th></tr><tr><th></th><th>Int64</th><th>Int64</th><th>Int64</th><th>Int64</th><th>String</th><th>Int64</th></tr></thead><tbody><p>426,633 rows × 6 columns</p><tr><th>1</th><td>841</td><td>20</td><td>1</td><td>1</td><td>1:38.109</td><td>98109</td></tr><tr><th>2</th><td>841</td><td>20</td><td>2</td><td>1</td><td>1:33.006</td><td>93006</td></tr><tr><th>3</th><td>841</td><td>20</td><td>3</td><td>1</td><td>1:32.713</td><td>92713</td></tr><tr><th>4</th><td>841</td><td>20</td><td>4</td><td>1</td><td>1:32.803</td><td>92803</td></tr><tr><th>5</th><td>841</td><td>20</td><td>5</td><td>1</td><td>1:32.342</td><td>92342</td></tr><tr><th>6</th><td>841</td><td>20</td><td>6</td><td>1</td><td>1:32.605</td><td>92605</td></tr><tr><th>7</th><td>841</td><td>20</td><td>7</td><td>1</td><td>1:32.502</td><td>92502</td></tr><tr><th>8</th><td>841</td><td>20</td><td>8</td><td>1</td><td>1:32.537</td><td>92537</td></tr><tr><th>9</th><td>841</td><td>20</td><td>9</td><td>1</td><td>1:33.240</td><td>93240</td></tr><tr><th>10</th><td>841</td><td>20</td><td>10</td><td>1</td><td>1:32.572</td><td>92572</td></tr><tr><th>11</th><td>841</td><td>20</td><td>11</td><td>1</td><td>1:32.669</td><td>92669</td></tr><tr><th>12</th><td>841</td><td>20</td><td>12</td><td>1</td><td>1:32.902</td><td>92902</td></tr><tr><th>13</th><td>841</td><td>20</td><td>13</td><td>1</td><td>1:33.698</td><td>93698</td></tr><tr><th>14</th><td>841</td><td>20</td><td>14</td><td>3</td><td>1:52.075</td><td>112075</td></tr><tr><th>15</th><td>841</td><td>20</td><td>15</td><td>4</td><td>1:38.385</td><td>98385</td></tr><tr><th>16</th><td>841</td><td>20</td><td>16</td><td>2</td><td>1:31.548</td><td>91548</td></tr><tr><th>17</th><td>841</td><td>20</td><td>17</td><td>1</td><td>1:30.800</td><td>90800</td></tr><tr><th>18</th><td>841</td><td>20</td><td>18</td><td>1</td><td>1:31.810</td><td>91810</td></tr><tr><th>19</th><td>841</td><td>20</td><td>19</td><td>1</td><td>1:31.018</td><td>91018</td></tr><tr><th>20</th><td>841</td><td>20</td><td>20</td><td>1</td><td>1:31.055</td><td>91055</td></tr><tr><th>21</th><td>841</td><td>20</td><td>21</td><td>1</td><td>1:31.288</td><td>91288</td></tr><tr><th>22</th><td>841</td><td>20</td><td>22</td><td>1</td><td>1:31.084</td><td>91084</td></tr><tr><th>23</th><td>841</td><td>20</td><td>23</td><td>1</td><td>1:30.875</td><td>90875</td></tr><tr><th>24</th><td>841</td><td>20</td><td>24</td><td>1</td><td>1:32.240</td><td>92240</td></tr><tr><th>25</th><td>841</td><td>20</td><td>25</td><td>1</td><td>1:31.699</td><td>91699</td></tr><tr><th>26</th><td>841</td><td>20</td><td>26</td><td>1</td><td>1:31.328</td><td>91328</td></tr><tr><th>27</th><td>841</td><td>20</td><td>27</td><td>1</td><td>1:31.568</td><td>91568</td></tr><tr><th>28</th><td>841</td><td>20</td><td>28</td><td>1</td><td>1:31.113</td><td>91113</td></tr><tr><th>29</th><td>841</td><td>20</td><td>29</td><td>1</td><td>1:31.339</td><td>91339</td></tr><tr><th>30</th><td>841</td><td>20</td><td>30</td><td>1</td><td>1:31.054</td><td>91054</td></tr><tr><th>&vellip;</th><td>&vellip;</td><td>&vellip;</td><td>&vellip;</td><td>&vellip;</td><td>&vellip;</td><td>&vellip;</td></tr></tbody></table>"
      ],
      "text/latex": [
       "\\begin{tabular}{r|cccccc}\n",
       "\t& raceId & driverId & lap & position & time & milliseconds\\\\\n",
       "\t\\hline\n",
       "\t& Int64 & Int64 & Int64 & Int64 & String & Int64\\\\\n",
       "\t\\hline\n",
       "\t1 & 841 & 20 & 1 & 1 & 1:38.109 & 98109 \\\\\n",
       "\t2 & 841 & 20 & 2 & 1 & 1:33.006 & 93006 \\\\\n",
       "\t3 & 841 & 20 & 3 & 1 & 1:32.713 & 92713 \\\\\n",
       "\t4 & 841 & 20 & 4 & 1 & 1:32.803 & 92803 \\\\\n",
       "\t5 & 841 & 20 & 5 & 1 & 1:32.342 & 92342 \\\\\n",
       "\t6 & 841 & 20 & 6 & 1 & 1:32.605 & 92605 \\\\\n",
       "\t7 & 841 & 20 & 7 & 1 & 1:32.502 & 92502 \\\\\n",
       "\t8 & 841 & 20 & 8 & 1 & 1:32.537 & 92537 \\\\\n",
       "\t9 & 841 & 20 & 9 & 1 & 1:33.240 & 93240 \\\\\n",
       "\t10 & 841 & 20 & 10 & 1 & 1:32.572 & 92572 \\\\\n",
       "\t11 & 841 & 20 & 11 & 1 & 1:32.669 & 92669 \\\\\n",
       "\t12 & 841 & 20 & 12 & 1 & 1:32.902 & 92902 \\\\\n",
       "\t13 & 841 & 20 & 13 & 1 & 1:33.698 & 93698 \\\\\n",
       "\t14 & 841 & 20 & 14 & 3 & 1:52.075 & 112075 \\\\\n",
       "\t15 & 841 & 20 & 15 & 4 & 1:38.385 & 98385 \\\\\n",
       "\t16 & 841 & 20 & 16 & 2 & 1:31.548 & 91548 \\\\\n",
       "\t17 & 841 & 20 & 17 & 1 & 1:30.800 & 90800 \\\\\n",
       "\t18 & 841 & 20 & 18 & 1 & 1:31.810 & 91810 \\\\\n",
       "\t19 & 841 & 20 & 19 & 1 & 1:31.018 & 91018 \\\\\n",
       "\t20 & 841 & 20 & 20 & 1 & 1:31.055 & 91055 \\\\\n",
       "\t21 & 841 & 20 & 21 & 1 & 1:31.288 & 91288 \\\\\n",
       "\t22 & 841 & 20 & 22 & 1 & 1:31.084 & 91084 \\\\\n",
       "\t23 & 841 & 20 & 23 & 1 & 1:30.875 & 90875 \\\\\n",
       "\t24 & 841 & 20 & 24 & 1 & 1:32.240 & 92240 \\\\\n",
       "\t25 & 841 & 20 & 25 & 1 & 1:31.699 & 91699 \\\\\n",
       "\t26 & 841 & 20 & 26 & 1 & 1:31.328 & 91328 \\\\\n",
       "\t27 & 841 & 20 & 27 & 1 & 1:31.568 & 91568 \\\\\n",
       "\t28 & 841 & 20 & 28 & 1 & 1:31.113 & 91113 \\\\\n",
       "\t29 & 841 & 20 & 29 & 1 & 1:31.339 & 91339 \\\\\n",
       "\t30 & 841 & 20 & 30 & 1 & 1:31.054 & 91054 \\\\\n",
       "\t$\\dots$ & $\\dots$ & $\\dots$ & $\\dots$ & $\\dots$ & $\\dots$ & $\\dots$ \\\\\n",
       "\\end{tabular}\n"
      ],
      "text/plain": [
       "\u001b[1m426633×6 DataFrame\u001b[0m\n",
       "\u001b[1m    Row \u001b[0m│\u001b[1m raceId \u001b[0m\u001b[1m driverId \u001b[0m\u001b[1m lap   \u001b[0m\u001b[1m position \u001b[0m\u001b[1m time     \u001b[0m\u001b[1m milliseconds \u001b[0m\n",
       "\u001b[1m        \u001b[0m│\u001b[90m Int64  \u001b[0m\u001b[90m Int64    \u001b[0m\u001b[90m Int64 \u001b[0m\u001b[90m Int64    \u001b[0m\u001b[90m String   \u001b[0m\u001b[90m Int64        \u001b[0m\n",
       "────────┼───────────────────────────────────────────────────────────\n",
       "      1 │    841        20      1         1  1:38.109         98109\n",
       "      2 │    841        20      2         1  1:33.006         93006\n",
       "      3 │    841        20      3         1  1:32.713         92713\n",
       "      4 │    841        20      4         1  1:32.803         92803\n",
       "      5 │    841        20      5         1  1:32.342         92342\n",
       "      6 │    841        20      6         1  1:32.605         92605\n",
       "      7 │    841        20      7         1  1:32.502         92502\n",
       "      8 │    841        20      8         1  1:32.537         92537\n",
       "      9 │    841        20      9         1  1:33.240         93240\n",
       "     10 │    841        20     10         1  1:32.572         92572\n",
       "     11 │    841        20     11         1  1:32.669         92669\n",
       "   ⋮    │   ⋮        ⋮        ⋮       ⋮         ⋮           ⋮\n",
       " 426624 │    988       825     45        13  1:44.781        104781\n",
       " 426625 │    988       825     46        13  1:44.348        104348\n",
       " 426626 │    988       825     47        13  1:44.038        104038\n",
       " 426627 │    988       825     48        13  1:44.303        104303\n",
       " 426628 │    988       825     49        13  1:44.171        104171\n",
       " 426629 │    988       825     50        13  1:43.928        103928\n",
       " 426630 │    988       825     51        13  1:44.138        104138\n",
       " 426631 │    988       825     52        13  1:43.934        103934\n",
       " 426632 │    988       825     53        13  1:44.164        104164\n",
       " 426633 │    988       825     54        13  1:44.285        104285\n",
       "\u001b[36m                                                 426612 rows omitted\u001b[0m"
      ]
     },
     "execution_count": 34,
     "metadata": {},
     "output_type": "execute_result"
    }
   ],
   "source": [
    "using CSV\n",
    "using DataFrames\n",
    "laps = CSV.read(\"/Users/andy/data/f1/lapTimes.csv\", DataFrame)"
   ]
  },
  {
   "cell_type": "code",
   "execution_count": 35,
   "metadata": {},
   "outputs": [
    {
     "data": {
      "text/html": [
       "<table class=\"data-frame\"><thead><tr><th></th><th>raceId</th><th>driverId</th><th>lap</th><th>position</th><th>time</th><th>milliseconds</th></tr><tr><th></th><th>Int64</th><th>Int64</th><th>Int64</th><th>Int64</th><th>String</th><th>Int64</th></tr></thead><tbody><p>4 rows × 6 columns</p><tr><th>1</th><td>841</td><td>20</td><td>1</td><td>1</td><td>1:38.109</td><td>98109</td></tr><tr><th>2</th><td>841</td><td>20</td><td>2</td><td>1</td><td>1:33.006</td><td>93006</td></tr><tr><th>3</th><td>841</td><td>20</td><td>3</td><td>1</td><td>1:32.713</td><td>92713</td></tr><tr><th>4</th><td>841</td><td>20</td><td>4</td><td>1</td><td>1:32.803</td><td>92803</td></tr></tbody></table>"
      ],
      "text/latex": [
       "\\begin{tabular}{r|cccccc}\n",
       "\t& raceId & driverId & lap & position & time & milliseconds\\\\\n",
       "\t\\hline\n",
       "\t& Int64 & Int64 & Int64 & Int64 & String & Int64\\\\\n",
       "\t\\hline\n",
       "\t1 & 841 & 20 & 1 & 1 & 1:38.109 & 98109 \\\\\n",
       "\t2 & 841 & 20 & 2 & 1 & 1:33.006 & 93006 \\\\\n",
       "\t3 & 841 & 20 & 3 & 1 & 1:32.713 & 92713 \\\\\n",
       "\t4 & 841 & 20 & 4 & 1 & 1:32.803 & 92803 \\\\\n",
       "\\end{tabular}\n"
      ],
      "text/plain": [
       "\u001b[1m4×6 DataFrame\u001b[0m\n",
       "\u001b[1m Row \u001b[0m│\u001b[1m raceId \u001b[0m\u001b[1m driverId \u001b[0m\u001b[1m lap   \u001b[0m\u001b[1m position \u001b[0m\u001b[1m time     \u001b[0m\u001b[1m milliseconds \u001b[0m\n",
       "\u001b[1m     \u001b[0m│\u001b[90m Int64  \u001b[0m\u001b[90m Int64    \u001b[0m\u001b[90m Int64 \u001b[0m\u001b[90m Int64    \u001b[0m\u001b[90m String   \u001b[0m\u001b[90m Int64        \u001b[0m\n",
       "─────┼───────────────────────────────────────────────────────────\n",
       "   1 │    841        20      1         1  1:38.109         98109\n",
       "   2 │    841        20      2         1  1:33.006         93006\n",
       "   3 │    841        20      3         1  1:32.713         92713\n",
       "   4 │    841        20      4         1  1:32.803         92803"
      ]
     },
     "execution_count": 35,
     "metadata": {},
     "output_type": "execute_result"
    }
   ],
   "source": [
    "first(laps, 4)"
   ]
  },
  {
   "cell_type": "code",
   "execution_count": 36,
   "metadata": {},
   "outputs": [
    {
     "data": {
      "text/html": [
       "<table class=\"data-frame\"><thead><tr><th></th><th>raceId</th><th>driverId</th><th>lap</th><th>position</th><th>time</th><th>milliseconds</th></tr><tr><th></th><th>Int64</th><th>Int64</th><th>Int64</th><th>Int64</th><th>String</th><th>Int64</th></tr></thead><tbody><p>4 rows × 6 columns</p><tr><th>1</th><td>988</td><td>825</td><td>51</td><td>13</td><td>1:44.138</td><td>104138</td></tr><tr><th>2</th><td>988</td><td>825</td><td>52</td><td>13</td><td>1:43.934</td><td>103934</td></tr><tr><th>3</th><td>988</td><td>825</td><td>53</td><td>13</td><td>1:44.164</td><td>104164</td></tr><tr><th>4</th><td>988</td><td>825</td><td>54</td><td>13</td><td>1:44.285</td><td>104285</td></tr></tbody></table>"
      ],
      "text/latex": [
       "\\begin{tabular}{r|cccccc}\n",
       "\t& raceId & driverId & lap & position & time & milliseconds\\\\\n",
       "\t\\hline\n",
       "\t& Int64 & Int64 & Int64 & Int64 & String & Int64\\\\\n",
       "\t\\hline\n",
       "\t1 & 988 & 825 & 51 & 13 & 1:44.138 & 104138 \\\\\n",
       "\t2 & 988 & 825 & 52 & 13 & 1:43.934 & 103934 \\\\\n",
       "\t3 & 988 & 825 & 53 & 13 & 1:44.164 & 104164 \\\\\n",
       "\t4 & 988 & 825 & 54 & 13 & 1:44.285 & 104285 \\\\\n",
       "\\end{tabular}\n"
      ],
      "text/plain": [
       "\u001b[1m4×6 DataFrame\u001b[0m\n",
       "\u001b[1m Row \u001b[0m│\u001b[1m raceId \u001b[0m\u001b[1m driverId \u001b[0m\u001b[1m lap   \u001b[0m\u001b[1m position \u001b[0m\u001b[1m time     \u001b[0m\u001b[1m milliseconds \u001b[0m\n",
       "\u001b[1m     \u001b[0m│\u001b[90m Int64  \u001b[0m\u001b[90m Int64    \u001b[0m\u001b[90m Int64 \u001b[0m\u001b[90m Int64    \u001b[0m\u001b[90m String   \u001b[0m\u001b[90m Int64        \u001b[0m\n",
       "─────┼───────────────────────────────────────────────────────────\n",
       "   1 │    988       825     51        13  1:44.138        104138\n",
       "   2 │    988       825     52        13  1:43.934        103934\n",
       "   3 │    988       825     53        13  1:44.164        104164\n",
       "   4 │    988       825     54        13  1:44.285        104285"
      ]
     },
     "execution_count": 36,
     "metadata": {},
     "output_type": "execute_result"
    }
   ],
   "source": [
    "last(laps, 4)"
   ]
  },
  {
   "cell_type": "code",
   "execution_count": null,
   "metadata": {},
   "outputs": [],
   "source": [
    "laps[1:6, 2:4]"
   ]
  },
  {
   "cell_type": "code",
   "execution_count": null,
   "metadata": {},
   "outputs": [],
   "source": [
    "describe(laps)"
   ]
  },
  {
   "cell_type": "code",
   "execution_count": null,
   "metadata": {},
   "outputs": [],
   "source": []
  }
 ],
 "metadata": {
  "kernelspec": {
   "display_name": "Julia 1.5.3",
   "language": "julia",
   "name": "julia-1.5"
  },
  "language_info": {
   "file_extension": ".jl",
   "mimetype": "application/julia",
   "name": "julia",
   "version": "1.5.3"
  }
 },
 "nbformat": 4,
 "nbformat_minor": 4
}
