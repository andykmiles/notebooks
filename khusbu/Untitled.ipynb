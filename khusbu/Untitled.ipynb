{
 "cells": [
  {
   "cell_type": "markdown",
   "metadata": {},
   "source": [
    "# generate dummy look-alike data"
   ]
  },
  {
   "cell_type": "code",
   "execution_count": 23,
   "metadata": {},
   "outputs": [],
   "source": [
    "import pandas as pd\n",
    "pd.set_option('expand_frame_repr', False)\n",
    "look_at_first = pd.DataFrame({\n",
    "    'Task':['10','10','10','10','20','20','20'],\n",
    "    'Task_TaskName':['010 Project Mgmt','010 Project Mgmt','010 Project Mgmt','010 Project Mgmt','020 Project Mgmt','020 Project Mgmt','020 Project Mgmt'],\n",
    "    'Employee/Supplier':['blogs, fred','harris, bill','xxx, pete','yyy, sue','ppp, chris','ttt, jane','eee, jim'],\n",
    "    'Dec-20':[2,0,0,3,2,1,4],\n",
    "    'Jan-21':[5,1,0,5,2,2,3]\n",
    "})"
   ]
  },
  {
   "cell_type": "code",
   "execution_count": 24,
   "metadata": {},
   "outputs": [
    {
     "data": {
      "text/html": [
       "<div>\n",
       "<style scoped>\n",
       "    .dataframe tbody tr th:only-of-type {\n",
       "        vertical-align: middle;\n",
       "    }\n",
       "\n",
       "    .dataframe tbody tr th {\n",
       "        vertical-align: top;\n",
       "    }\n",
       "\n",
       "    .dataframe thead th {\n",
       "        text-align: right;\n",
       "    }\n",
       "</style>\n",
       "<table border=\"1\" class=\"dataframe\">\n",
       "  <thead>\n",
       "    <tr style=\"text-align: right;\">\n",
       "      <th></th>\n",
       "      <th>Task</th>\n",
       "      <th>Task_TaskName</th>\n",
       "      <th>Employee/Supplier</th>\n",
       "      <th>Dec-20</th>\n",
       "      <th>Jan-21</th>\n",
       "    </tr>\n",
       "  </thead>\n",
       "  <tbody>\n",
       "    <tr>\n",
       "      <th>0</th>\n",
       "      <td>10</td>\n",
       "      <td>010 Project Mgmt</td>\n",
       "      <td>blogs, fred</td>\n",
       "      <td>2</td>\n",
       "      <td>5</td>\n",
       "    </tr>\n",
       "    <tr>\n",
       "      <th>1</th>\n",
       "      <td>10</td>\n",
       "      <td>010 Project Mgmt</td>\n",
       "      <td>harris, bill</td>\n",
       "      <td>0</td>\n",
       "      <td>1</td>\n",
       "    </tr>\n",
       "    <tr>\n",
       "      <th>2</th>\n",
       "      <td>10</td>\n",
       "      <td>010 Project Mgmt</td>\n",
       "      <td>xxx, pete</td>\n",
       "      <td>0</td>\n",
       "      <td>0</td>\n",
       "    </tr>\n",
       "    <tr>\n",
       "      <th>3</th>\n",
       "      <td>10</td>\n",
       "      <td>010 Project Mgmt</td>\n",
       "      <td>yyy, sue</td>\n",
       "      <td>3</td>\n",
       "      <td>5</td>\n",
       "    </tr>\n",
       "    <tr>\n",
       "      <th>4</th>\n",
       "      <td>20</td>\n",
       "      <td>020 Project Mgmt</td>\n",
       "      <td>ppp, chris</td>\n",
       "      <td>2</td>\n",
       "      <td>2</td>\n",
       "    </tr>\n",
       "    <tr>\n",
       "      <th>5</th>\n",
       "      <td>20</td>\n",
       "      <td>020 Project Mgmt</td>\n",
       "      <td>ttt, jane</td>\n",
       "      <td>1</td>\n",
       "      <td>2</td>\n",
       "    </tr>\n",
       "    <tr>\n",
       "      <th>6</th>\n",
       "      <td>20</td>\n",
       "      <td>020 Project Mgmt</td>\n",
       "      <td>eee, jim</td>\n",
       "      <td>4</td>\n",
       "      <td>3</td>\n",
       "    </tr>\n",
       "  </tbody>\n",
       "</table>\n",
       "</div>"
      ],
      "text/plain": [
       "  Task     Task_TaskName Employee/Supplier  Dec-20  Jan-21\n",
       "0   10  010 Project Mgmt       blogs, fred       2       5\n",
       "1   10  010 Project Mgmt      harris, bill       0       1\n",
       "2   10  010 Project Mgmt         xxx, pete       0       0\n",
       "3   10  010 Project Mgmt          yyy, sue       3       5\n",
       "4   20  020 Project Mgmt        ppp, chris       2       2\n",
       "5   20  020 Project Mgmt         ttt, jane       1       2\n",
       "6   20  020 Project Mgmt          eee, jim       4       3"
      ]
     },
     "execution_count": 24,
     "metadata": {},
     "output_type": "execute_result"
    }
   ],
   "source": [
    "look_at_first"
   ]
  },
  {
   "cell_type": "code",
   "execution_count": 25,
   "metadata": {},
   "outputs": [
    {
     "data": {
      "text/plain": [
       "array(['10', '20'], dtype=object)"
      ]
     },
     "execution_count": 25,
     "metadata": {},
     "output_type": "execute_result"
    }
   ],
   "source": [
    "look_at_first.Task.unique()"
   ]
  },
  {
   "cell_type": "markdown",
   "metadata": {},
   "source": [
    "Column A                      Columns 6 - 17\n",
    "010                              Jan    Feb    March    April..\n",
    "last, first                        4\n",
    "last, first                                            4\n",
    "...                                  ....\n",
    "020                              Jan    Feb    March    April..\n",
    "last, first                      4\n",
    "last, first                                   4\n",
    "...\n",
    "030                              Jan    Feb    March    April..\n",
    "last, first                         4\n",
    "last, first                                                           4\n",
    "...\n"
   ]
  },
  {
   "cell_type": "code",
   "execution_count": 32,
   "metadata": {},
   "outputs": [
    {
     "name": "stdout",
     "output_type": "stream",
     "text": [
      "10\n",
      "010 Project Mgmt blogs, fred 2 5\n",
      "010 Project Mgmt harris, bill 0 1\n",
      "010 Project Mgmt xxx, pete 0 0\n",
      "010 Project Mgmt yyy, sue 3 5\n",
      "20\n",
      "020 Project Mgmt ppp, chris 2 2\n",
      "020 Project Mgmt ttt, jane 1 2\n",
      "020 Project Mgmt eee, jim 4 3\n"
     ]
    }
   ],
   "source": [
    "for task in look_at_first.Task.unique():\n",
    "    print(task)\n",
    "    this_task = look_at_first[look_at_first[\"Task\"]==task]\n",
    "    for index, row in this_task.iterrows():\n",
    "        #print(row[[\"Employee/Supplier\", \"Dec-20\", \"Jan-21\"]])\n",
    "        print(row[\"Task_TaskName\"], row[\"Employee/Supplier\"], row[\"Dec-20\"], row[\"Jan-21\"])"
   ]
  }
 ],
 "metadata": {
  "kernelspec": {
   "display_name": "Python 3",
   "language": "python",
   "name": "python3"
  },
  "language_info": {
   "codemirror_mode": {
    "name": "ipython",
    "version": 3
   },
   "file_extension": ".py",
   "mimetype": "text/x-python",
   "name": "python",
   "nbconvert_exporter": "python",
   "pygments_lexer": "ipython3",
   "version": "3.8.5"
  }
 },
 "nbformat": 4,
 "nbformat_minor": 4
}
